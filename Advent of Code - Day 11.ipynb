{
 "cells": [
  {
   "cell_type": "markdown",
   "metadata": {},
   "source": [
    "# Advent Of Code Day 11 \n",
    "\n",
    "### NOTE: I didn't finish this day. This is my attempt. Will hopefully update.\n",
    "\n",
    "The 11th day of competition. The goal is just to finish all 25 days. I don't know if it will happen, but that's the goal!"
   ]
  },
  {
   "cell_type": "code",
   "execution_count": 76,
   "metadata": {},
   "outputs": [],
   "source": [
    "#!pip install advent-of-code-data\n",
    "\n",
    "from aocd import data, submit\n",
    "import aocd\n",
    "\n",
    "import re"
   ]
  },
  {
   "cell_type": "code",
   "execution_count": 77,
   "metadata": {},
   "outputs": [],
   "source": [
    "lst = data.split('\\n')"
   ]
  },
  {
   "cell_type": "code",
   "execution_count": 78,
   "metadata": {},
   "outputs": [
    {
     "data": {
      "text/plain": [
       "93"
      ]
     },
     "execution_count": 78,
     "metadata": {},
     "output_type": "execute_result"
    }
   ],
   "source": [
    "len(lst)"
   ]
  },
  {
   "cell_type": "code",
   "execution_count": 79,
   "metadata": {},
   "outputs": [
    {
     "data": {
      "text/plain": [
       "95"
      ]
     },
     "execution_count": 79,
     "metadata": {},
     "output_type": "execute_result"
    }
   ],
   "source": [
    "len(lst[0])"
   ]
  },
  {
   "cell_type": "code",
   "execution_count": 91,
   "metadata": {},
   "outputs": [
    {
     "data": {
      "text/plain": [
       "'LLL#LLLLLLLL.LLLLLLL.LLLLLLL..LLLL.LLLLL.LLLLL.LLL..LLLLLLLLLLLLL.LLLLLLLLLLLLLLLLLLLLL.LLLLLLL'"
      ]
     },
     "execution_count": 91,
     "metadata": {},
     "output_type": "execute_result"
    }
   ],
   "source": [
    "current_list = lst.copy()\n",
    "x=0\n",
    "y=4\n",
    "current_list[x] = current_list[x][:y-1]+\"#\"+current_list[x][y:]\n",
    "current_list[x]"
   ]
  },
  {
   "cell_type": "code",
   "execution_count": 92,
   "metadata": {},
   "outputs": [],
   "source": [
    "current_list = lst.copy()\n",
    "\n",
    "#If a seat is empty (L) and there are no occupied seats adjacent to it, the seat becomes occupied.\n",
    "#If a seat is occupied (#) and four or more seats adjacent to it are also occupied, the seat becomes empty.\n",
    "#Otherwise, the seat's state does not change.\n",
    "current_list2 = ['']\n",
    "current_list3 = []\n",
    "while current_list3 != current_list2:\n",
    "    current_list2 = current_list.copy()\n",
    "    current_list3 = current_list.copy()\n",
    "    #print(current_list)\n",
    "    for x in range(len(current_list)):\n",
    "        for y in range(len(current_list[x])):\n",
    "            empty,floor,occupied=0,0,0\n",
    "            if x == 0: \n",
    "                if y == 0:\n",
    "                    for val in [current_list3[x][y+1],current_list3[x+1][y],current_list3[x+1][y+1]]:\n",
    "                        \n",
    "                        if val == 'L':\n",
    "                            empty+=1\n",
    "                        elif val == '.':\n",
    "                            floor+=1\n",
    "                        else:\n",
    "                            occupied+=1\n",
    "                            \n",
    "                    if current_list3[x][y] == \"L\" and occupied == 0:\n",
    "                        current_list[x] = current_list[x][:y]+\"#\"+current_list[x][y+1:]\n",
    "                    elif current_list3[x][y] == \"#\" and occupied >= 4:\n",
    "                        current_list[x] = current_list[x][:y]+\"L\"+current_list[x][y+1:]\n",
    "\n",
    "    \n",
    "                if y == len(current_list[x])-1:\n",
    "                    for val in [current_list3[x][y-1],current_list3[x+1][y-1],current_list3[x+1][y]]:\n",
    "                        if val == 'L':\n",
    "                            empty+=1\n",
    "                        elif val == '.':\n",
    "                            floor+=1\n",
    "                        else:\n",
    "                            occupied+=1\n",
    "\n",
    "                    if current_list3[x][y] == \"L\" and occupied == 0:\n",
    "                        current_list[x] = current_list[x][:y]+\"#\"+current_list[x][y+1:]\n",
    "                    elif current_list3[x][y] == \"#\" and occupied >= 4:\n",
    "                        current_list[x] = current_list[x][:y]+\"L\"+current_list[x][y+1:]\n",
    "                else:\n",
    "                    for val in [current_list3[x][y-1],current_list3[x][y+1],current_list3[x+1][y-1],current_list3[x+1][y],current_list3[x+1][y+1]]:\n",
    "                        if val == 'L':\n",
    "                            empty+=1\n",
    "                        elif val == '.':\n",
    "                            floor+=1\n",
    "                        else:\n",
    "                            occupied+=1\n",
    "\n",
    "                    if current_list3[x][y] == \"L\" and occupied == 0:\n",
    "                        current_list[x] = current_list[x][:y]+\"#\"+current_list[x][y+1:]\n",
    "                    elif current_list3[x][y] == \"#\" and occupied >= 4:\n",
    "                        current_list[x] = current_list[x][:y]+\"L\"+current_list[x][y+1:]\n",
    "                # TOP\n",
    "\n",
    "            elif y == 0:\n",
    "                if x == len(current_list)-1:\n",
    "                    for val in [current_list3[x-1][y],current_list3[x-1][y+1],current_list3[x][y+1]]:\n",
    "                        if val == 'L':\n",
    "                            empty+=1\n",
    "                        elif val == '.':\n",
    "                            floor+=1\n",
    "                        else:\n",
    "                            occupied+=1\n",
    "\n",
    "                    if current_list3[x][y] == \"L\" and occupied == 0:\n",
    "                        current_list[x] = current_list[x][:y]+\"#\"+current_list[x][y+1:]\n",
    "                    elif current_list3[x][y] == \"#\" and occupied >= 4:\n",
    "                        current_list[x] = current_list[x][:y]+\"L\"+current_list[x][y+1:]\n",
    "                else:\n",
    "                    for val in [current_list3[x-1][y],current_list3[x-1][y+1],current_list3[x][y+1],current_list3[x+1][y],current_list3[x+1][y+1]]:\n",
    "                        if val == 'L':\n",
    "                            empty+=1\n",
    "                        elif val == '.':\n",
    "                            floor+=1\n",
    "                        else:\n",
    "                            occupied+=1\n",
    "\n",
    "                    if current_list3[x][y] == \"L\" and occupied == 0:\n",
    "                        current_list[x] = current_list[x][:y]+\"#\"+current_list[x][y+1:]\n",
    "                    elif current_list3[x][y] == \"#\" and occupied >= 4:\n",
    "                        current_list[x] = current_list[x][:y]+\"L\"+current_list[x][y+1:]\n",
    "                # LEFT\n",
    "\n",
    "            elif x == len(current_list)-1:\n",
    "                if y == len(current_list[x])-1:\n",
    "                    for val in [current_list3[x-1][y-1],current_list3[x-1][y],current_list3[x][y-1]]:\n",
    "                        if val == 'L':\n",
    "                            empty+=1\n",
    "                        elif val == '.':\n",
    "                            floor+=1\n",
    "                        else:\n",
    "                            occupied+=1\n",
    "                    \n",
    "                    if current_list3[x][y] == \"L\" and occupied == 0:\n",
    "                        current_list[x] = current_list[x][:y]+\"#\"+current_list[x][y+1:]\n",
    "                    elif current_list3[x][y] == \"#\" and occupied >= 4:\n",
    "                        current_list[x] = current_list[x][:y]+\"L\"+current_list[x][y+1:]\n",
    "                else:\n",
    "                    for val in [current_list3[x-1][y-1],current_list3[x-1][y],current_list3[x-1][y+1],current_list3[x][y-1],current_list3[x][y+1]]:\n",
    "                        if val == 'L':\n",
    "                            empty+=1\n",
    "                        elif val == '.':\n",
    "                            floor+=1\n",
    "                        else:\n",
    "                            occupied+=1\n",
    "\n",
    "                    if current_list3[x][y] == \"L\" and occupied == 0:\n",
    "                        current_list[x] = current_list[x][:y]+\"#\"+current_list[x][y+1:]\n",
    "                    elif current_list3[x][y] == \"#\" and occupied >= 4:\n",
    "                        current_list[x] = current_list[x][:y]+\"L\"+current_list[x][y+1:]\n",
    "                    # BOTTOM\n",
    "            elif y == len(current_list[x])-1:\n",
    "                for val in [current_list3[x-1][y-1],current_list3[x-1][y],current_list3[x][y-1],current_list3[x+1][y-1],current_list3[x+1][y]]:\n",
    "                    if val == 'L':\n",
    "                        empty+=1\n",
    "                    elif val == '.':\n",
    "                        floor+=1\n",
    "                    else:\n",
    "                        occupied+=1\n",
    "\n",
    "                if current_list3[x][y] == \"L\" and occupied == 0:\n",
    "                    current_list[x] = current_list[x][:y]+\"#\"+current_list[x][y+1:]\n",
    "                elif current_list3[x][y] == \"#\" and occupied >= 4:\n",
    "                    current_list[x] = current_list[x][:y]+\"L\"+current_list[x][y+1:]\n",
    "                # RIGHT\n",
    "            else:\n",
    "                for val in [current_list3[x-1][y-1],current_list3[x-1][y],current_list3[x-1][y+1],current_list3[x][y-1],current_list3[x][y+1],current_list3[x+1][y-1],current_list3[x+1][y],current_list3[x+1][y+1]]:\n",
    "                    if val == 'L':\n",
    "                        empty+=1\n",
    "                    elif val == '.':\n",
    "                        floor+=1\n",
    "                    else:\n",
    "                        occupied+=1\n",
    "\n",
    "                if current_list3[x][y] == \"L\" and occupied == 0:\n",
    "                    current_list[x] = current_list[x][:y]+\"#\"+current_list[x][y+1:]\n",
    "                elif current_list3[x][y] == \"#\" and occupied >= 4:\n",
    "                    current_list[x] = current_list[x][:y]+\"L\"+current_list[x][y+1:]\n",
    "    current_list3 = current_list.copy()\n",
    "    #print(\"CL\",current_list)\n",
    "    #print(\"CL2\",current_list2)\n"
   ]
  },
  {
   "cell_type": "code",
   "execution_count": 94,
   "metadata": {},
   "outputs": [
    {
     "data": {
      "text/plain": [
       "2274"
      ]
     },
     "execution_count": 94,
     "metadata": {},
     "output_type": "execute_result"
    }
   ],
   "source": [
    "count = 0\n",
    "for i in current_list:\n",
    "    for x in i:\n",
    "        if x == \"#\":\n",
    "            count+=1\n",
    "count"
   ]
  },
  {
   "cell_type": "code",
   "execution_count": 95,
   "metadata": {},
   "outputs": [
    {
     "name": "stdout",
     "output_type": "stream",
     "text": [
      "That's the right answer!  You are one gold star closer to saving your vacation. [Continue to Part Two]\n"
     ]
    },
    {
     "data": {
      "text/plain": [
       "<Response [200]>"
      ]
     },
     "execution_count": 95,
     "metadata": {},
     "output_type": "execute_result"
    }
   ],
   "source": [
    "#for corners +3\n",
    "aocd.submit(count+3 , part='a', day=11, year=2020)"
   ]
  },
  {
   "cell_type": "code",
   "execution_count": null,
   "metadata": {},
   "outputs": [],
   "source": [
    "current_list = lst.copy()\n",
    "\n",
    "#If a seat is empty (L) and there are no occupied seats adjacent to it, the seat becomes occupied.\n",
    "#If a seat is occupied (#) and four or more seats adjacent to it are also occupied, the seat becomes empty.\n",
    "#Otherwise, the seat's state does not change.\n",
    "current_list2 = ['']\n",
    "current_list3 = []\n",
    "while current_list3 != current_list2:\n",
    "    current_list2 = current_list.copy()\n",
    "    current_list3 = current_list.copy()\n",
    "    #print(current_list)\n",
    "    for x in range(len(current_list)):\n",
    "        for y in range(len(current_list[x])):\n",
    "            empty,floor,occupied=0,0,0\n",
    "            if x == 0: \n",
    "                if y == 0:\n",
    "                    for val in [current_list3[x][y+1],current_list3[x+1][y],current_list3[x+1][y+1]]:\n",
    "                        \n",
    "                        if val == 'L':\n",
    "                            empty+=1\n",
    "                        elif val == '.':\n",
    "                            floor+=1\n",
    "                        else:\n",
    "                            occupied+=1\n",
    "                            \n",
    "                    if current_list3[x][y] == \"L\" and occupied == 0:\n",
    "                        current_list[x] = current_list[x][:y]+\"#\"+current_list[x][y+1:]\n",
    "                    elif current_list3[x][y] == \"#\" and occupied >= 4:\n",
    "                        current_list[x] = current_list[x][:y]+\"L\"+current_list[x][y+1:]\n",
    "\n",
    "    \n",
    "                if y == len(current_list[x])-1:\n",
    "                    for val in [current_list3[x][y-1],current_list3[x+1][y-1],current_list3[x+1][y]]:\n",
    "                        if val == 'L':\n",
    "                            empty+=1\n",
    "                        elif val == '.':\n",
    "                            floor+=1\n",
    "                        else:\n",
    "                            occupied+=1\n",
    "\n",
    "                    if current_list3[x][y] == \"L\" and occupied == 0:\n",
    "                        current_list[x] = current_list[x][:y]+\"#\"+current_list[x][y+1:]\n",
    "                    elif current_list3[x][y] == \"#\" and occupied >= 4:\n",
    "                        current_list[x] = current_list[x][:y]+\"L\"+current_list[x][y+1:]\n",
    "                else:\n",
    "                    for val in [current_list3[x][y-1],current_list3[x][y+1],current_list3[x+1][y-1],current_list3[x+1][y],current_list3[x+1][y+1]]:\n",
    "                        if val == 'L':\n",
    "                            empty+=1\n",
    "                        elif val == '.':\n",
    "                            floor+=1\n",
    "                        else:\n",
    "                            occupied+=1\n",
    "\n",
    "                    if current_list3[x][y] == \"L\" and occupied == 0:\n",
    "                        current_list[x] = current_list[x][:y]+\"#\"+current_list[x][y+1:]\n",
    "                    elif current_list3[x][y] == \"#\" and occupied >= 4:\n",
    "                        current_list[x] = current_list[x][:y]+\"L\"+current_list[x][y+1:]\n",
    "                # TOP\n",
    "\n",
    "            elif y == 0:\n",
    "                if x == len(current_list)-1:\n",
    "                    for val in [current_list3[x-1][y],current_list3[x-1][y+1],current_list3[x][y+1]]:\n",
    "                        if val == 'L':\n",
    "                            empty+=1\n",
    "                        elif val == '.':\n",
    "                            floor+=1\n",
    "                        else:\n",
    "                            occupied+=1\n",
    "\n",
    "                    if current_list3[x][y] == \"L\" and occupied == 0:\n",
    "                        current_list[x] = current_list[x][:y]+\"#\"+current_list[x][y+1:]\n",
    "                    elif current_list3[x][y] == \"#\" and occupied >= 5:\n",
    "                        current_list[x] = current_list[x][:y]+\"L\"+current_list[x][y+1:]\n",
    "                else:\n",
    "                    for val in [current_list3[x-1][y],current_list3[x-1][y+1],current_list3[x][y+1],current_list3[x+1][y],current_list3[x+1][y+1]]:\n",
    "                        if val == 'L':\n",
    "                            empty+=1\n",
    "                        elif val == '.':\n",
    "                            floor+=1\n",
    "                        else:\n",
    "                            occupied+=1\n",
    "\n",
    "                    if current_list3[x][y] == \"L\" and occupied == 0:\n",
    "                        current_list[x] = current_list[x][:y]+\"#\"+current_list[x][y+1:]\n",
    "                    elif current_list3[x][y] == \"#\" and occupied >= 4:\n",
    "                        current_list[x] = current_list[x][:y]+\"L\"+current_list[x][y+1:]\n",
    "                # LEFT\n",
    "\n",
    "            elif x == len(current_list)-1:\n",
    "                if y == len(current_list[x])-1:\n",
    "                    for val in [current_list3[x-1][y-1],current_list3[x-1][y],current_list3[x][y-1]]:\n",
    "                        if val == 'L':\n",
    "                            empty+=1\n",
    "                        elif val == '.':\n",
    "                            floor+=1\n",
    "                        else:\n",
    "                            occupied+=1\n",
    "                    \n",
    "                    if current_list3[x][y] == \"L\" and occupied == 0:\n",
    "                        current_list[x] = current_list[x][:y]+\"#\"+current_list[x][y+1:]\n",
    "                    elif current_list3[x][y] == \"#\" and occupied >= 4:\n",
    "                        current_list[x] = current_list[x][:y]+\"L\"+current_list[x][y+1:]\n",
    "                else:\n",
    "                    for val in [current_list3[x-1][y-1],current_list3[x-1][y],current_list3[x-1][y+1],current_list3[x][y-1],current_list3[x][y+1]]:\n",
    "                        if val == 'L':\n",
    "                            empty+=1\n",
    "                        elif val == '.':\n",
    "                            floor+=1\n",
    "                        else:\n",
    "                            occupied+=1\n",
    "\n",
    "                    if current_list3[x][y] == \"L\" and occupied == 0:\n",
    "                        current_list[x] = current_list[x][:y]+\"#\"+current_list[x][y+1:]\n",
    "                    elif current_list3[x][y] == \"#\" and occupied >= 4:\n",
    "                        current_list[x] = current_list[x][:y]+\"L\"+current_list[x][y+1:]\n",
    "                    # BOTTOM\n",
    "            elif y == len(current_list[x])-1:\n",
    "                for val in [current_list3[x-1][y-1],current_list3[x-1][y],current_list3[x][y-1],current_list3[x+1][y-1],current_list3[x+1][y]]:\n",
    "                    if val == 'L':\n",
    "                        empty+=1\n",
    "                    elif val == '.':\n",
    "                        floor+=1\n",
    "                    else:\n",
    "                        occupied+=1\n",
    "\n",
    "                if current_list3[x][y] == \"L\" and occupied == 0:\n",
    "                    current_list[x] = current_list[x][:y]+\"#\"+current_list[x][y+1:]\n",
    "                elif current_list3[x][y] == \"#\" and occupied >= 4:\n",
    "                    current_list[x] = current_list[x][:y]+\"L\"+current_list[x][y+1:]\n",
    "                # RIGHT\n",
    "            else:\n",
    "                for val in [current_list3[x-1][y-1],current_list3[x-1][y],current_list3[x-1][y+1],current_list3[x][y-1],current_list3[x][y+1],current_list3[x+1][y-1],current_list3[x+1][y],current_list3[x+1][y+1]]:\n",
    "                    if val == 'L':\n",
    "                        empty+=1\n",
    "                    elif val == '.':\n",
    "                        floor+=1\n",
    "                    else:\n",
    "                        occupied+=1\n",
    "\n",
    "                if current_list3[x][y] == \"L\" and occupied == 0:\n",
    "                    current_list[x] = current_list[x][:y]+\"#\"+current_list[x][y+1:]\n",
    "                elif current_list3[x][y] == \"#\" and occupied >= 4:\n",
    "                    current_list[x] = current_list[x][:y]+\"L\"+current_list[x][y+1:]\n",
    "    current_list3 = current_list.copy()\n",
    "    #print(\"CL\",current_list)\n",
    "    #print(\"CL2\",current_list2)\n"
   ]
  },
  {
   "cell_type": "code",
   "execution_count": null,
   "metadata": {},
   "outputs": [],
   "source": [
    "#.#L.L#.##\n",
    "#LLL#LL.L#\n",
    "L.#.L..#..\n",
    "#L##.##.L#\n",
    "#.#L.LL.LL\n",
    "#.#L#L#.##\n",
    "..L.L.....\n",
    "#L#L##L#L#\n",
    "#.LLLLLL.L\n",
    "#.#L#L#.##"
   ]
  },
  {
   "cell_type": "code",
   "execution_count": 52,
   "metadata": {},
   "outputs": [
    {
     "data": {
      "text/plain": [
       "['LLLLLLLLLLLL.LLLLLLL.LLLLLLL..LLLL.LLLLL.LLLLL.LLL..LLLLLLLLLLLLL.LLLLLLLLLLLLLLLLLLLLL.LLLLLLL',\n",
       " 'LLLLL.LLLLLL.LLLLLLLLL.LLLLL.L.LLL.LLLLL.LLLL..LLLL.LLLLLLLLLLLLL.LLLLLLL.LLLL.LLLLLLLL.LLLLLLL',\n",
       " 'LLLLL.LLLLLLLLLLLLLLLL.LLLLL.LLLLL.L.LLL.LLLLL.LLLLLLLLLLLLLLLLLL.LLLLLLLLLLLLLLLLLLLLL..LLLLL.',\n",
       " 'L.LLLLLLLLLL.LLLLLLLLLLLLLLL.LLLLL.LLLLLLLLLLL.LLLL.LLLLLLLL.LL.L.LLLLLLL.LLLL.LLLLLLLL.LLLLLLL',\n",
       " 'LLLLL..LLLLLLLLLLLLLLLLLLLLLLLLLLLLLLLLL.LLLL.LLLLL.LLLLLLLL.LLLLLLLLLLLL.LLLL.LLLLLLLL.LL.LLLL',\n",
       " 'LLLLL.LLLLLL.LLLLLLLLLLLLLLL.LLLLLLLLLLL.LLLLL.LLLL.LLLLLLLLLLLLL.LLLLLLL.LLLL.LLLLLLLL.LLLLLLL',\n",
       " 'LLLLL.LLLLLLLLLLLLLLLL.LLLLLLLLLLLLLL.LL.LLLLL.LLLL.LLLLLLLL.LLLLL.LLLLLL.LLLLLLLLLLLLLLLLLLLLL',\n",
       " '.L...LL.L.L.L....L..L......LL...L..L.L.LLL.....L...L..LLL.L.LL..LLL......L..L.LLLLL.....L..L...',\n",
       " 'LLLLL..LLLLLLL.LLLLLLL.LLLLL.LLLLLLLLLLL.LLLLL.LLLLLLLLLLLLL.LLLLLLLL.LLL.LLLLLLLLLLLLLLLLLLLLL',\n",
       " 'LLL.LLLLLLLL..LLLLLLLLLLLLLL.LLLLL.LLLLL.LLLLL.LLLL.L.LLLLLL.LLLL.LLLLLLLLLLLL.LLLLLLLL.LLLLLLL',\n",
       " 'LLLLL.L.LLLL.LLLLLLLLL.LLLLL.LLLLL.LLLLL.LLLLL.LLLL.LLLLLLLLLLLL..LLLLLLL.LLLLLLLLLL.LL.LLLLLLL',\n",
       " 'LLLLL.LLLLLL.LLLLLLLLL.LLLLL.LLLLL.LLLLL.LLLLL.LLLL.LLLLLLLL.LLLL.LLLL.LLLLLLL.LLL.LLLL.LLLLLLL',\n",
       " 'LLLLLLLLLLLL.LLLLLLLLL.LLLLL.LLLLL.LLLLL.LLLLL.LLLLLLLLLLLLLLLLLL.LLLLLLL.LLLLLLLL.LLL...LLLLLL',\n",
       " 'LLL.LLLLLLLL.LLLLLLLLL.LLLLL.LLLLLLLLLLLLLLLLLLLLLL.LLLLLLLL.LLLLLLLLLLLL.LLLLL.LLLLLL.LLLLLLLL',\n",
       " 'LLLLL.LLLLLLLLLLLLLLLL.LL.LL.LLLLL.LLLLL.LLLLL.LLLL.LLLLLLLL.LLLL.LLLLLL..LLLLLLLLLLLLL.LLLLL.L',\n",
       " 'L.LLLLLLLLLL.LLLLLLLLL.LLLLL.L.LLL.LLLLL.LLLLLLLLLL.LLLLLLLL.LLLL.LLLLL.L.LLLL.LLLLLLLL.LLLLLLL',\n",
       " 'LLLLL.LLLLLL.LLLLLLLLL.LL.LL.LLLLL.LLLLL.LLLLL.LLLLLLLLLLLLL.LLLL.LLLLLLL.LLLL.L.LLLLLL.LLLLLLL',\n",
       " 'L...L.LL..L.L.LL.LL.L.....L..L.L.......L.L.LL...L....L......L.L.L.L.L..L....LL......L......L...',\n",
       " 'LLLL..LLLLLL.LLLLLLLLLLLLLLLLLLLLL.LLLLL.LLLLLLL.LLLLLLLLLLL.L.LLLL.LLLL.LLLLL..LLLLLLL.LLLLLLL',\n",
       " 'LLLLL.LLLLLL.LLL.LL.LL.LLLLLLLLLLLLLLLLLLLLLLL.LLLL.LLLLLLLLLLLLL.LLLLLLLLLLLL.LLLLLLLLLLLLLLL.',\n",
       " 'L..LL.LLLLLLLLLLLLLLLL.LLLLL.LLLLL.LLLLL.LLLLL.LL.L.LLLLLLLL.LLLLLLLLLLLLLLLLL.LLLLLLL..LLLLLLL',\n",
       " 'LLLLL.LLLLLL.LLLLLLLLL.LLLLL.LLLLL.LLLLLLLLLLL.LLLL.LLLLLLLL.LLLL.LLLLLLL.LLLLLLLLLLLLL.LLLLLLL',\n",
       " 'LLLLL.LLLLLLLLLLLLLLLLLLLLLLLLLLLL.LLLLL.LLLLLLL.LLLLLLLLLLL.LLLL.LLLLLLL.LLLLL.L.LLLLL.LLLLLLL',\n",
       " 'LL.LL.LLLLLLLLLLLLLLLL.LLLLLLLLLLL.LLLLL.LLLLL.LLLL.LLLLLLLL.LLLL.LLLLLLLLLLLL.LLLLLLLL.LLL.LLL',\n",
       " '...............L.L..LL.....L.L..L...LL.......LL....L......L...L....L...............LLL...L.LLL.',\n",
       " 'LLLLLLLLLLL..LLLLLL.LLLLLLLL.LLLLL.LLLLL.LLLLLLLLLL..LLLLLLLLLLLLLLLLLLLLLL.LLLLLLLLLLL.L.LLLLL',\n",
       " 'LL.LL.LLLLLL.LLLLLLLLL.LLLLL.LLLL..LLLLLLLLLLL.LLLLLLLLLLLLL.LLLL.LLLLLLL.LLL.LLLLLLLLL.LLLLLLL',\n",
       " '.LLLL.LLLLLLL.LLLLLLLL.LLLLL.LLLLLLLLLLL.LLLLL.LLLLLLLLLLLLL.LLLLLLLLLLLLLLLLL.LLLLLLLLLLLLLLLL',\n",
       " 'LLLLL.LLLLLL.LLLLLLLLL.LLLLLLLLLLL.LLLLL.LLLL.LLLLLLLLLLLLLLL.LLL.LLLLLLLLLLLL.LLLLL.LLLLLLLLLL',\n",
       " 'LLLLL.L.LLLL.LLLLLLLLLLLLLLL.LLLLL.LLLLL.LLLLL.LLLL.LLLLLLLL.LLLL.LLLLLLL.LLL..LLLLLLLLLLLLLLLL',\n",
       " 'LLLLLLLLLLLL.LLLLLLLLLLLLLLL.LLLLLL.LLLL.LLLLL.LLLL.LLLLLLLLLLLLL.LLLLLLL.LLLLLLLLLLLLL.LLLLLLL',\n",
       " 'LLL.L.LLLLLL.LLLLLLLLLLLLLLLLLLLLL.LLLLL.LLLLL.LLLL.LLLLLLLLLLLLL.LLLLLLLLLLLL.LLLLLLLL.LLLLLLL',\n",
       " 'LLLLLLLLLLLLLLLLLLLLLLLLLLLL.LLLLLLLLLLL.LLLLL.LLLLLLLLLLLLLLLLLL.LLLLLLL.LLLL.LLLLLLLL.LLLLLLL',\n",
       " '....L..L..........L......L.LL..L.L..LL.......L.....LL..L..LL...L......L....L..L..L....L.......L',\n",
       " '.L.LLLLLLLLL.LLLLLLLLL.LLLLL.LLLLLLLLLL.LLLLLL.LLLLLLLLLL.LL.LLLLLLLLLL.L.LLLL.LLLLLLLL.LLLLLLL',\n",
       " 'LLLLLLLLLLLLLLLLLLLLLL.LLLLL.LLLLL.LLLLL.LLLLL.LLLLLLLLLLLLLLLLLL.LLLL.LLLLLLL.LLLLLLLL.LLLLLLL',\n",
       " 'LLLLL.LLL.LL.LLL.LLLLL.LLLLLLLLLLL.LLLLL.LLLLL.LLLL.L.LLLLLLLLLL..LLLLLLLLLLLL.LLLLLLLL.LLLLLLL',\n",
       " 'LL.LL.LLLLLL.LLLL.LLLLLLLLLL.LLLL.LLLLLLLLLLLLLLL.L.LLLLLLLL.LLLLLLLLLLLL.L.LL.LLLLLLLL.LLLLLLL',\n",
       " 'LLLLLLLLLLLLLLLLLLLLLL.LLLLLLLLLLLLLLLLL.LLLLLLLLLL.LLLLLLLL.LLLLLLLLLLLL.LLLL.LLLLLLL..LLLLLLL',\n",
       " '.....L.L..LL.LLL.LL.L.L.....L..L.L......L......L.LL...L....LL..L.........L..L.....L.L....L..L..',\n",
       " 'LLLLLLLLLLLLLLLLLLLLLL.LLLLLLLLLLL.LLLLLLLLLLL.LLLL.LLLLLLLLLLLLLLLLLLLLLLLLLLLLLLLLLLL.LLLLLLL',\n",
       " 'LLLLL.LLLLLL.LLL.LLLLL.LLLLL.LLLLLLLLLLLLLLLLLLLLLL.LLLLLLLL.LLLL.LLLLLLLLLLLL.LLLLLLLL.LLLLLLL',\n",
       " 'LLLLL.LLLLLLLLLLLLLLLL.LLLLL.LLLLLLLLLLLLLLLLL.LLLL.LLLLLLLL.LLLL.LLLLLLL.LLL..LLLLLLLL.LLLLLLL',\n",
       " 'LLLLL.LLLLLL.LLLLLLLLLLLLLLL.L.LLL.LLLLL.LL.LL.LLLL.L.LLLLL...LLL.LLL.LLLLLLLL.LLLLLLLL.LLLLLLL',\n",
       " 'LLLLL.L.LLLL.LLLLLLLLLLLLLLL.LLLLL.LLLLLLLLLLL.LLLL.LLLLLLLLLLLLL.LLLLLLL.LLLL.LLLLLLLLLLLLLLLL',\n",
       " 'LLLLL.LLLLL..LLLLLLLLL.L.LLL.LLL.L.LLLLLLLLLLLLLLLL.LLLLLLLL.LLLLLLLLLLLL.LLLL.LLLLLLLLLLLLLLL.',\n",
       " 'LLLLLLLLLLLL.LLLLLLLL..LLLLLLLLLLLLLLLLL.LLLLL.LLLL.LLLLLLLL.LLLL.LLLLLLL.LLLL.LLLLLLLL.LLLLLLL',\n",
       " 'LLLLL.LLLLLL.LLLL.LLLL.LLLLL.LLLLLLLLLLL.LLLLL.LLLL.LLLLLLLL.LLLL.LLLLLLLLLLLLLLLLLLLLL.LLLLLLL',\n",
       " '...L..LL.L......L....LLL....L.L.LL..L.L..L.LL..L..L.L......L...L.L..L..LL....L..L..LL...LL.....',\n",
       " 'L..LL.LLLLLL.LLLLLLLLLL.LL.L.LLLLL.L.LLL.LLLLLL.LLL.LLLLLLLLLLL.LLLLLLLLLLLLLLLLLLLLLLL.LLLLLLL',\n",
       " 'LLLLL.LLLLLL.LLLLLLLLL.LLLLL.LLLLL.LLLLL.LLLLL.LLLLLLLLLLLLL.LLLL..LL.LLLLLLLL.LLLLLLLL.LLLLLLL',\n",
       " 'LLLLLLLLLLLL.L.LLLLLLL.LLLLL.LLLLLLLLLLL.LLLLL.LLLL.LLLLLLLL.LLLL.LLLLLLL.LLLLLLLLLLLLL.LLLLLLL',\n",
       " 'LLLLLLLLLLLL.LLLLLLLLLLLLLLLLLLLLL.LLLLL.LLLLL.LLLLL.LLLLLLL.LLLLLLLLLLL..LLLLLLLLLLLLL.LLLLLLL',\n",
       " 'LLLLL.LLLLLLLLLLLLLLLLLLLLLLLLLLLLLLLLLLLLLLLL.LLLLLLLLLLLLL.LLLLLLLLLLLL.LLLL.LLLLLLLL.LLLLLLL',\n",
       " 'LLLLL.LLLLLL.LLLLLLLLL.LLLLL.LLLLLLLLLL.LLLLLL.LLLL.L.LLL.LL.LLLL.LLLLLLL.LLLLLLLLLLLLL.LLLLLLL',\n",
       " 'LLLLLLLLLLLL.LLLLLLLLL.LLLLLLLLLLL.LLLLL..LLLLLLLLLLLLLLLLLL.LLLL.LLLLLLL.LLLL.LLLLLLLLLLLLLLLL',\n",
       " 'LLLLL.LLLLLL.LLLLLLLLL.LLLLLLLLLLLLLLLLL.LLL.L.LLLL.LLLLLLLL.LLLL.LLLLLLLLLLLL.LLLLLLLL.LLLLLLL',\n",
       " 'LL..L.L.L.L..LL...LL....L.L..L..LLL..L.LL.L.LLLL..L.L.L..L...L.....L..LL........L...LL..L.L.LL.',\n",
       " 'LLLLL.LLLL.L.LL.LLLLLL.LLLLLLLLLLLLL.LLL.LLLLLLLLLLLLLLLLLLL.LLLLLLLLLLLLLLL.L.LLLLLLLL.LLLLLLL',\n",
       " 'LLLLL.LLLLLL.LLLLLLLLL.LLLLL.LLLLLL.LLLL.LLLLLLLLLL.LLLLLLLLLLLLLLLLLLLLLLLLLL.LLLLLLLL.LLLLLLL',\n",
       " 'LLLLL.LLL.LLLLLLLLLLLLLLLLLL.LLLLLLLLLLL.LLLLL.LL.L.LLLLLLLLLL.LLLLLLLLLL.LLLLLLLLLLLLLLLLLLLLL',\n",
       " 'LLLLL.LLLLLLLLL.LLLLLL.LLLLL.LLLLLLLLLLLLLLLLL.LLLLLLLLLLLL..LLLL.LLLLLLL.LLLL.LLLLLLLL.LLLLLLL',\n",
       " 'LL.L..L..L.....LL......L.......LLLLL..L.L.LL...L......L.L..L.L.L........L..L.L.L..LLLL....L....',\n",
       " 'LLL.L.LLLLLLLLLLL.LLLL.LLLLL..LLLLLLLLLLLLLLLL.LLLL.LLLLLLLL.LLLL.LLLLLLL.L.LLL.LLLLLLL.LLLLLLL',\n",
       " 'LLLLLLLLLLLL.LLLLLLLLL.LLLLLLL.LLL.LLLL..LLL.LLLLLL.LLLLLLLL.LLLL.LL.LLLLLLLLLLLLLLLLLL.LLLLLLL',\n",
       " 'LLLLL.LLLLLL.LLLLLLLLLLLL.LL.LLLLLLLLLLLLLLLLLLLLLL..LLLLLLL.L.LLLLLLLLLL.LLLL.LLLLLLLLLLLLLLLL',\n",
       " 'LLLLL.LLLLLL.LLLLLLLLL.LLLLLLLLLLL.LLLLL.LLLLLLLLLL.LLLLLLLLLLLLL.LLLLLLLLLLLL.LL.LLLLL.LLLLLLL',\n",
       " 'LLLLL.L.LLLLLLLLLLLLLL.LLLLL.LLLLL.LLLLLLLLLLL.LLLL.LLLLLLLL.LLLL.LLLLLLL.LLLL.LL.LLLLL.LLLLLLL',\n",
       " 'LLLLL.LLLLLLLLLLLLLL.L.LLLLL.L.LLL.LLLLL.LLLLL.LLLLLLLLLLLLL.LLLLLLLLLLLLLLLLLLLLLLLLLLLLLLLLLL',\n",
       " 'LLLLLLLLLLLLLLLLLLLL.LLLLLLL.LLLLL.LLLLL.LLLLL.LL.L.LLL.LLLLLLLLL.LLLLLLL.LLLL.LLLLLLLL.LLLLLL.',\n",
       " 'LLLLL.LLLLLLLLLLLL.LLL.LLL.L.LLLLLLLL.LLLLLLLLLLLLLLLLLLLLLL.LLLL.LLLLLL..LLLL.LLLLLLLL..LLLLLL',\n",
       " 'LL.LL..L......L...L.....LL...L......L..L..LL...LL..L.L.....L.L...L...........LL...L.L.L..L.L.L.',\n",
       " 'LLLLL.LLLLLLLLLLLLLLLLLLLLLL.LLLLL.LLLLL.LLLLL.LLLL.LLLLLLLL.LLLL.LLLLLLL.LLLL.LLL.LLLL.LLLLLLL',\n",
       " 'LLLLLLLLLLLL.LLLLLLLLLLLLLLLLLLLL.LLLLLLLLLLLL.LLLLLLLLLLL.L.LLL..L.LLLLL.LLLLLLLLLLLLL.LLLLLLL',\n",
       " 'LLLLLLLLLLLL.LLLLLLLLLLLLLLL.LLLLLLLLLLL.LLLLL.LLLL.LLLLLLLL.LLLLLLLLLLLL.LLLLLLLLLLLLL.LLLLLLL',\n",
       " 'LLLLLLLLLLLLLLLLLLLLLL.LLLLL.LLLLL.LLLLL..LLLLLLLLL.LLLLLLLL.LLLLLLLLLLLLLLL.LLLLLLLLLL.LLLLLLL',\n",
       " 'LLLLL.LLLLLL.LLLLLLLLLLLLLLL.LLLLLLLLLLL.LLLLLLLLLL.LLLLLLLL.LLLLLLLLLLLL.LLLL..LLLLLLL.LLLLLLL',\n",
       " 'LLLLL.LLLLLLLLLLLLLLLLLLLLLL.LLLLLLLLLLL.LLLLL.LLLLLLLLLLLLL.LLLLLLLLLLLLLLLLL.LLLL.LLL.LL.LLLL',\n",
       " 'L....L..L..L...LL.L....L..LL.LL..L....L.L.....LL..........L...L...L..L.L.........L....L..L.....',\n",
       " 'LLLLL.LLLL.LLLLL.LLLLL..LLLL.LLLLL.LLLLLLLLLLLL.LLLLLLLLLLLL.LLLL.L.LLLLLLLLLL.LLLLLLLLLLL.LLLL',\n",
       " '..LLL.LLLLLL.LLLLLLLLLLLLLLLLLLLLL.LLLLLLLLLLL.LLLL.LLLLLLLLLLLL.LLLLLLLL.LLLL.LLLLLLLL.LLLLLLL',\n",
       " 'LLL.L.LLLLLLLLLLLLLLLL.LLLLL.LLLLLLL.LLL.LLLLL.LLLL.LLLLLLLL.LLLL.LLLLLLL.LLLL.LLLLLLLLLLLLLLLL',\n",
       " 'LLLLL.LLLLLL.LLLLLLLLL.LLLLLLLLLL.LLLLLLLLLLLLLLLLL.LLLLLLLL.LLLL.LLLLL.L.LLLL.LLLLLLLLLLLLLLLL',\n",
       " 'L.........LL.L..L.L....L.LLLL...L.L.....LLLL.........LL..LL....L...L..L.L...LL..LL...L.L.L..L.L',\n",
       " 'LLLLL.LLLLLL..LLLLLLLL.LLL.L.LLLLL.LLL.L.LLLLL.L.LL.LLLLLLLL.LLLL.L.LLLLL...LL.LL.LLLLLLLLLLLLL',\n",
       " 'LLLLL.LLLLLL.LLLLLLLLL.LLLLLLLLLLL.LLLLLLLLLLL.LLLLLLLLLLLLL.LLLLLLLLL.LL.LLLLLLLLLLLLLLLLLLLLL',\n",
       " 'LLLLLLLLLL.L.LLLLLLLLL.LLLLL.LLL.L.LLLLLLLLLLL.LLLL.LLLLLLLL.LLLLLLLLLLLL.LL.L.LLLLLLLL.L.LLLLL',\n",
       " 'LLLLL.LLLLLL.LLLLLLLLLLLLLL..LLLLL.LLLLL.LLLLL.LLLL.LLLLLLLL.LLLLLLLLLLLL.LLLL.LLLL.LLL.LLLLLLL',\n",
       " 'LLLLLLLLLLL..LLLLLLLLL.LLLLL.LLLLLLLLLLL.L.LLL.LLLL.LLLLLLLL.LLLL.LLLL.LL.LLL.LLLLLLLLLLLLLLLLL',\n",
       " 'LLLLL.LLLLLLLLLLLLLLLL.LLLLLL.LLLLLLLLLL.LLLLLLLLL..LLLLLLLL.LLLL.LLLLLLL.LLLL.LLLLLLLL.LLLLLLL',\n",
       " 'LLLLL.LLLLLL.LLLLLLLLL.LL.LLLLLLLLLLLLLL.LLLLL.LLLL.LLLLLLLL.LLLL.LLLLLLL.LLLL.LLLLLLLLLLLLLLLL',\n",
       " '.LLLL.LLLLLL.LLLLLLLLL.LLLLL.L.LLLLLLLLLLLLLLL.LLLL.LLLLLLLLLLLLL.LLLLLLL.LLLLLLLL.LL.L.LLLLLLL',\n",
       " 'LLLLL.LLLLLL.LLLLLLLLLLLLLLL.LLLLL.LLLLLLLLLLL.LLLLLLLLLLLLL.LLLLLLLLLLLL.L.L..LLLLLLLLLLLLLLLL']"
      ]
     },
     "execution_count": 52,
     "metadata": {},
     "output_type": "execute_result"
    }
   ],
   "source": [
    "lst"
   ]
  },
  {
   "cell_type": "code",
   "execution_count": 49,
   "metadata": {},
   "outputs": [
    {
     "name": "stdout",
     "output_type": "stream",
     "text": [
      "L\n",
      "L\n",
      "L\n",
      "CL ['############.#######.#######..####.#####.#####.###..#############.#####################.#######', '#####.######.#########.#####.#.###.#####.####..####.#############.#######.####.########.#######', '#####.################.#####.#####.#.###.#####.##################.#####################..#####.', '#.##########.###############.#####.###########.####.########.##.#.#######.####.########.#######', '#####..#################################.####.#####.########.############.####.########.##.####', '#####.######.###############.###########.#####.####.#############.#######.####.########.#######', '#####.################.##############.##.#####.####.########.#####.######.#####################', '.#...##.#.#.#....#..#......##...#..#.#.###.....#...#..###.#.##..###......#..#.#####.....#..#...', '#####..#######.#######.#####.###########.#####.#############.########.###.#####################', '###.########..##############.#####.#####.#####.####.#.######.####.############.########.#######', '#####.#.####.#########.#####.#####.#####.#####.####.############..#######.##########.##.#######', '#####.######.#########.#####.#####.#####.#####.####.########.####.####.#######.###.####.#######', '############.#########.#####.#####.#####.#####.##################.#######.########.###...######', '###.########.#########.#####.######################.########.############.#####.######.########', '#####.################.##.##.#####.#####.#####.####.########.####.######..#############.#####.#', '#.##########.#########.#####.#.###.#####.##########.########.####.#####.#.####.########.#######', '#####.######.#########.##.##.#####.#####.#####.#############.####.#######.####.#.######.#######', '#...#.##..#.#.##.##.#.....#..#.#.......#.#.##...#....#......#.#.#.#.#..#....##......#......#...', '####..######.#####################.#####.#######.###########.#.####.####.#####..#######.#######', '#####.######.###.##.##.#######################.####.#############.############.###############.', '#..##.################.#####.#####.#####.#####.##.#.########.#################.#######..#######', '#####.######.#########.#####.#####.###########.####.########.####.#######.#############.#######', '#####.############################.#####.#######.###########.####.#######.#####.#.#####.#######', '##.##.################.###########.#####.#####.####.########.####.############.########.###.###', '...............#.#..##.....#.#..#...##.......##....#......#...#....#...............###...#.###.', '###########..######.########.#####.#####.##########..######################.###########.#.#####', '##.##.######.#########.#####.####..###########.#############.####.#######.###.#########.#######', '.####.#######.########.#####.###########.#####.#############.#################.################', '#####.######.#########.###########.#####.####.###############.###.############.#####.##########', '#####.#.####.###############.#####.#####.#####.####.########.####.#######.###..################', '############.###############.######.####.#####.####.#############.#######.#############.#######', '###.#.######.#####################.#####.#####.####.#############.############.########.#######', '############################.###########.#####.##################.#######.####.########.#######', '....#..#..........#......#.##..#.#..##.......#.....##..#..##...#......#....#..#..#....#.......#', '.#.#########.#########.#####.##########.######.##########.##.##########.#.####.########.#######', '######################.#####.#####.#####.#####.##################.####.#######.########.#######', '#####.###.##.###.#####.###########.#####.#####.####.#.##########..############.########.#######', '##.##.######.####.##########.####.###############.#.########.############.#.##.########.#######', '######################.#################.##########.########.############.####.#######..#######', '.....#.#..##.###.##.#.#.....#..#.#......#......#.##...#....##..#.........#..#.....#.#....#..#..', '######################.###########.###########.####.###################################.#######', '#####.######.###.#####.#####.######################.########.####.############.########.#######', '#####.################.#####.#################.####.########.####.#######.###..########.#######', '#####.######.###############.#.###.#####.##.##.####.#.#####...###.###.########.########.#######', '#####.#.####.###############.#####.###########.####.#############.#######.####.################', '#####.#####..#########.#.###.###.#.################.########.############.####.###############.', '############.########..#################.#####.####.########.####.#######.####.########.#######', '#####.######.####.####.#####.###########.#####.####.########.####.#####################.#######', '...#..##.#......#....###....#.#.##..#.#..#.##..#..#.#......#...#.#..#..##....#..#..##...##.....', '#..##.######.##########.##.#.#####.#.###.######.###.###########.#######################.#######', '#####.######.#########.#####.#####.#####.#####.#############.####..##.########.########.#######', '############.#.#######.#####.###########.#####.####.########.####.#######.#############.#######', '############.#####################.#####.#####.#####.#######.###########..#############.#######', '#####.########################################.#############.############.####.########.#######', '#####.######.#########.#####.##########.######.####.#.###.##.####.#######.#############.#######', '############.#########.###########.#####..##################.####.#######.####.################', '#####.######.#########.#################.###.#.####.########.####.############.########.#######', '##..#.#.#.#..##...##....#.#..#..###..#.##.#.####..#.#.#..#...#.....#..##........#...##..#.#.##.', '#####.####.#.##.######.#############.###.###################.###############.#.########.#######', '#####.######.#########.#####.######.####.##########.##########################.########.#######', '#####.###.##################.###########.#####.##.#.##########.##########.#####################', '#####.#########.######.#####.#################.############..####.#######.####.########.#######', '##.#..#..#.....##......#.......#####..#.#.##...#......#.#..#.#.#........#..#.#.#..####....#....', '###.#.###########.####.#####..################.####.########.####.#######.#.###.#######.#######', '############.#########.#######.###.####..###.######.########.####.##.##################.#######', '#####.######.############.##.######################..#######.#.##########.####.################', '#####.######.#########.###########.#####.##########.#############.############.##.#####.#######', '#####.#.##############.#####.#####.###########.####.########.####.#######.####.##.#####.#######', '#####.##############.#.#####.#.###.#####.#####.#############.##################################', '####################.#######.#####.#####.#####.##.#.###.#########.#######.####.########.######.', '#####.############.###.###.#.########.######################.####.######..####.########..######', '##.##..#......#...#.....##...#......#..#..##...##..#.#.....#.#...#...........##...#.#.#..#.#.#.', '#####.######################.#####.#####.#####.####.########.####.#######.####.###.####.#######', '############.####################.############.###########.#.###..#.#####.#############.#######', '############.###############.###########.#####.####.########.############.#############.#######', '######################.#####.#####.#####..#########.########.###############.##########.#######', '#####.######.###############.###########.##########.########.############.####..#######.#######', '#####.######################.###########.#####.#############.#################.####.###.##.####', '#....#..#..#...##.#....#..##.##..#....#.#.....##..........#...#...#..#.#.........#....#..#.....', '#####.####.#####.#####..####.#####.############.############.####.#.##########.###########.####', '..###.######.#####################.###########.####.############.########.####.########.#######', '###.#.################.#####.#######.###.#####.####.########.####.#######.####.################', '#####.######.#########.##########.#################.########.####.#####.#.####.################', '#.........##.#..#.#....#.####...#.#.....####.........##..##....#...#..#.#...##..##...#.#.#..#.#', '#####.######..########.###.#.#####.###.#.#####.#.##.########.####.#.#####...##.##.#############', '#####.######.#########.###########.###########.#############.#########.##.#####################', '##########.#.#########.#####.###.#.###########.####.########.############.##.#.########.#.#####', '#####.######.##############..#####.#####.#####.####.########.############.####.####.###.#######', '###########..#########.#####.###########.#.###.####.########.####.####.##.###.#################', '#####.################.######.##########.#########..########.####.#######.####.########.#######', '#####.######.#########.##.##############.#####.####.########.####.#######.####.################', '.####.######.#########.#####.#.###############.####.#############.#######.########.##.#.#######', '#####.######.###############.#####.###########.#############.############.#.#..################']\n"
     ]
    },
    {
     "name": "stdout",
     "output_type": "stream",
     "text": [
      "CL2 ['LLLLLLLLLLLL.LLLLLLL.LLLLLLL..LLLL.LLLLL.LLLLL.LLL..LLLLLLLLLLLLL.LLLLLLLLLLLLLLLLLLLLL.LLLLLLL', 'LLLLL.LLLLLL.LLLLLLLLL.LLLLL.L.LLL.LLLLL.LLLL..LLLL.LLLLLLLLLLLLL.LLLLLLL.LLLL.LLLLLLLL.LLLLLLL', 'LLLLL.LLLLLLLLLLLLLLLL.LLLLL.LLLLL.L.LLL.LLLLL.LLLLLLLLLLLLLLLLLL.LLLLLLLLLLLLLLLLLLLLL..LLLLL.', 'L.LLLLLLLLLL.LLLLLLLLLLLLLLL.LLLLL.LLLLLLLLLLL.LLLL.LLLLLLLL.LL.L.LLLLLLL.LLLL.LLLLLLLL.LLLLLLL', 'LLLLL..LLLLLLLLLLLLLLLLLLLLLLLLLLLLLLLLL.LLLL.LLLLL.LLLLLLLL.LLLLLLLLLLLL.LLLL.LLLLLLLL.LL.LLLL', 'LLLLL.LLLLLL.LLLLLLLLLLLLLLL.LLLLLLLLLLL.LLLLL.LLLL.LLLLLLLLLLLLL.LLLLLLL.LLLL.LLLLLLLL.LLLLLLL', 'LLLLL.LLLLLLLLLLLLLLLL.LLLLLLLLLLLLLL.LL.LLLLL.LLLL.LLLLLLLL.LLLLL.LLLLLL.LLLLLLLLLLLLLLLLLLLLL', '.L...LL.L.L.L....L..L......LL...L..L.L.LLL.....L...L..LLL.L.LL..LLL......L..L.LLLLL.....L..L...', 'LLLLL..LLLLLLL.LLLLLLL.LLLLL.LLLLLLLLLLL.LLLLL.LLLLLLLLLLLLL.LLLLLLLL.LLL.LLLLLLLLLLLLLLLLLLLLL', 'LLL.LLLLLLLL..LLLLLLLLLLLLLL.LLLLL.LLLLL.LLLLL.LLLL.L.LLLLLL.LLLL.LLLLLLLLLLLL.LLLLLLLL.LLLLLLL', 'LLLLL.L.LLLL.LLLLLLLLL.LLLLL.LLLLL.LLLLL.LLLLL.LLLL.LLLLLLLLLLLL..LLLLLLL.LLLLLLLLLL.LL.LLLLLLL', 'LLLLL.LLLLLL.LLLLLLLLL.LLLLL.LLLLL.LLLLL.LLLLL.LLLL.LLLLLLLL.LLLL.LLLL.LLLLLLL.LLL.LLLL.LLLLLLL', 'LLLLLLLLLLLL.LLLLLLLLL.LLLLL.LLLLL.LLLLL.LLLLL.LLLLLLLLLLLLLLLLLL.LLLLLLL.LLLLLLLL.LLL...LLLLLL', 'LLL.LLLLLLLL.LLLLLLLLL.LLLLL.LLLLLLLLLLLLLLLLLLLLLL.LLLLLLLL.LLLLLLLLLLLL.LLLLL.LLLLLL.LLLLLLLL', 'LLLLL.LLLLLLLLLLLLLLLL.LL.LL.LLLLL.LLLLL.LLLLL.LLLL.LLLLLLLL.LLLL.LLLLLL..LLLLLLLLLLLLL.LLLLL.L', 'L.LLLLLLLLLL.LLLLLLLLL.LLLLL.L.LLL.LLLLL.LLLLLLLLLL.LLLLLLLL.LLLL.LLLLL.L.LLLL.LLLLLLLL.LLLLLLL', 'LLLLL.LLLLLL.LLLLLLLLL.LL.LL.LLLLL.LLLLL.LLLLL.LLLLLLLLLLLLL.LLLL.LLLLLLL.LLLL.L.LLLLLL.LLLLLLL', 'L...L.LL..L.L.LL.LL.L.....L..L.L.......L.L.LL...L....L......L.L.L.L.L..L....LL......L......L...', 'LLLL..LLLLLL.LLLLLLLLLLLLLLLLLLLLL.LLLLL.LLLLLLL.LLLLLLLLLLL.L.LLLL.LLLL.LLLLL..LLLLLLL.LLLLLLL', 'LLLLL.LLLLLL.LLL.LL.LL.LLLLLLLLLLLLLLLLLLLLLLL.LLLL.LLLLLLLLLLLLL.LLLLLLLLLLLL.LLLLLLLLLLLLLLL.', 'L..LL.LLLLLLLLLLLLLLLL.LLLLL.LLLLL.LLLLL.LLLLL.LL.L.LLLLLLLL.LLLLLLLLLLLLLLLLL.LLLLLLL..LLLLLLL', 'LLLLL.LLLLLL.LLLLLLLLL.LLLLL.LLLLL.LLLLLLLLLLL.LLLL.LLLLLLLL.LLLL.LLLLLLL.LLLLLLLLLLLLL.LLLLLLL', 'LLLLL.LLLLLLLLLLLLLLLLLLLLLLLLLLLL.LLLLL.LLLLLLL.LLLLLLLLLLL.LLLL.LLLLLLL.LLLLL.L.LLLLL.LLLLLLL', 'LL.LL.LLLLLLLLLLLLLLLL.LLLLLLLLLLL.LLLLL.LLLLL.LLLL.LLLLLLLL.LLLL.LLLLLLLLLLLL.LLLLLLLL.LLL.LLL', '...............L.L..LL.....L.L..L...LL.......LL....L......L...L....L...............LLL...L.LLL.', 'LLLLLLLLLLL..LLLLLL.LLLLLLLL.LLLLL.LLLLL.LLLLLLLLLL..LLLLLLLLLLLLLLLLLLLLLL.LLLLLLLLLLL.L.LLLLL', 'LL.LL.LLLLLL.LLLLLLLLL.LLLLL.LLLL..LLLLLLLLLLL.LLLLLLLLLLLLL.LLLL.LLLLLLL.LLL.LLLLLLLLL.LLLLLLL', '.LLLL.LLLLLLL.LLLLLLLL.LLLLL.LLLLLLLLLLL.LLLLL.LLLLLLLLLLLLL.LLLLLLLLLLLLLLLLL.LLLLLLLLLLLLLLLL', 'LLLLL.LLLLLL.LLLLLLLLL.LLLLLLLLLLL.LLLLL.LLLL.LLLLLLLLLLLLLLL.LLL.LLLLLLLLLLLL.LLLLL.LLLLLLLLLL', 'LLLLL.L.LLLL.LLLLLLLLLLLLLLL.LLLLL.LLLLL.LLLLL.LLLL.LLLLLLLL.LLLL.LLLLLLL.LLL..LLLLLLLLLLLLLLLL', 'LLLLLLLLLLLL.LLLLLLLLLLLLLLL.LLLLLL.LLLL.LLLLL.LLLL.LLLLLLLLLLLLL.LLLLLLL.LLLLLLLLLLLLL.LLLLLLL', 'LLL.L.LLLLLL.LLLLLLLLLLLLLLLLLLLLL.LLLLL.LLLLL.LLLL.LLLLLLLLLLLLL.LLLLLLLLLLLL.LLLLLLLL.LLLLLLL', 'LLLLLLLLLLLLLLLLLLLLLLLLLLLL.LLLLLLLLLLL.LLLLL.LLLLLLLLLLLLLLLLLL.LLLLLLL.LLLL.LLLLLLLL.LLLLLLL', '....L..L..........L......L.LL..L.L..LL.......L.....LL..L..LL...L......L....L..L..L....L.......L', '.L.LLLLLLLLL.LLLLLLLLL.LLLLL.LLLLLLLLLL.LLLLLL.LLLLLLLLLL.LL.LLLLLLLLLL.L.LLLL.LLLLLLLL.LLLLLLL', 'LLLLLLLLLLLLLLLLLLLLLL.LLLLL.LLLLL.LLLLL.LLLLL.LLLLLLLLLLLLLLLLLL.LLLL.LLLLLLL.LLLLLLLL.LLLLLLL', 'LLLLL.LLL.LL.LLL.LLLLL.LLLLLLLLLLL.LLLLL.LLLLL.LLLL.L.LLLLLLLLLL..LLLLLLLLLLLL.LLLLLLLL.LLLLLLL', 'LL.LL.LLLLLL.LLLL.LLLLLLLLLL.LLLL.LLLLLLLLLLLLLLL.L.LLLLLLLL.LLLLLLLLLLLL.L.LL.LLLLLLLL.LLLLLLL', 'LLLLLLLLLLLLLLLLLLLLLL.LLLLLLLLLLLLLLLLL.LLLLLLLLLL.LLLLLLLL.LLLLLLLLLLLL.LLLL.LLLLLLL..LLLLLLL', '.....L.L..LL.LLL.LL.L.L.....L..L.L......L......L.LL...L....LL..L.........L..L.....L.L....L..L..', 'LLLLLLLLLLLLLLLLLLLLLL.LLLLLLLLLLL.LLLLLLLLLLL.LLLL.LLLLLLLLLLLLLLLLLLLLLLLLLLLLLLLLLLL.LLLLLLL', 'LLLLL.LLLLLL.LLL.LLLLL.LLLLL.LLLLLLLLLLLLLLLLLLLLLL.LLLLLLLL.LLLL.LLLLLLLLLLLL.LLLLLLLL.LLLLLLL', 'LLLLL.LLLLLLLLLLLLLLLL.LLLLL.LLLLLLLLLLLLLLLLL.LLLL.LLLLLLLL.LLLL.LLLLLLL.LLL..LLLLLLLL.LLLLLLL', 'LLLLL.LLLLLL.LLLLLLLLLLLLLLL.L.LLL.LLLLL.LL.LL.LLLL.L.LLLLL...LLL.LLL.LLLLLLLL.LLLLLLLL.LLLLLLL', 'LLLLL.L.LLLL.LLLLLLLLLLLLLLL.LLLLL.LLLLLLLLLLL.LLLL.LLLLLLLLLLLLL.LLLLLLL.LLLL.LLLLLLLLLLLLLLLL', 'LLLLL.LLLLL..LLLLLLLLL.L.LLL.LLL.L.LLLLLLLLLLLLLLLL.LLLLLLLL.LLLLLLLLLLLL.LLLL.LLLLLLLLLLLLLLL.', 'LLLLLLLLLLLL.LLLLLLLL..LLLLLLLLLLLLLLLLL.LLLLL.LLLL.LLLLLLLL.LLLL.LLLLLLL.LLLL.LLLLLLLL.LLLLLLL', 'LLLLL.LLLLLL.LLLL.LLLL.LLLLL.LLLLLLLLLLL.LLLLL.LLLL.LLLLLLLL.LLLL.LLLLLLLLLLLLLLLLLLLLL.LLLLLLL', '...L..LL.L......L....LLL....L.L.LL..L.L..L.LL..L..L.L......L...L.L..L..LL....L..L..LL...LL.....', 'L..LL.LLLLLL.LLLLLLLLLL.LL.L.LLLLL.L.LLL.LLLLLL.LLL.LLLLLLLLLLL.LLLLLLLLLLLLLLLLLLLLLLL.LLLLLLL', 'LLLLL.LLLLLL.LLLLLLLLL.LLLLL.LLLLL.LLLLL.LLLLL.LLLLLLLLLLLLL.LLLL..LL.LLLLLLLL.LLLLLLLL.LLLLLLL', 'LLLLLLLLLLLL.L.LLLLLLL.LLLLL.LLLLLLLLLLL.LLLLL.LLLL.LLLLLLLL.LLLL.LLLLLLL.LLLLLLLLLLLLL.LLLLLLL', 'LLLLLLLLLLLL.LLLLLLLLLLLLLLLLLLLLL.LLLLL.LLLLL.LLLLL.LLLLLLL.LLLLLLLLLLL..LLLLLLLLLLLLL.LLLLLLL', 'LLLLL.LLLLLLLLLLLLLLLLLLLLLLLLLLLLLLLLLLLLLLLL.LLLLLLLLLLLLL.LLLLLLLLLLLL.LLLL.LLLLLLLL.LLLLLLL', 'LLLLL.LLLLLL.LLLLLLLLL.LLLLL.LLLLLLLLLL.LLLLLL.LLLL.L.LLL.LL.LLLL.LLLLLLL.LLLLLLLLLLLLL.LLLLLLL', 'LLLLLLLLLLLL.LLLLLLLLL.LLLLLLLLLLL.LLLLL..LLLLLLLLLLLLLLLLLL.LLLL.LLLLLLL.LLLL.LLLLLLLLLLLLLLLL', 'LLLLL.LLLLLL.LLLLLLLLL.LLLLLLLLLLLLLLLLL.LLL.L.LLLL.LLLLLLLL.LLLL.LLLLLLLLLLLL.LLLLLLLL.LLLLLLL', 'LL..L.L.L.L..LL...LL....L.L..L..LLL..L.LL.L.LLLL..L.L.L..L...L.....L..LL........L...LL..L.L.LL.', 'LLLLL.LLLL.L.LL.LLLLLL.LLLLLLLLLLLLL.LLL.LLLLLLLLLLLLLLLLLLL.LLLLLLLLLLLLLLL.L.LLLLLLLL.LLLLLLL', 'LLLLL.LLLLLL.LLLLLLLLL.LLLLL.LLLLLL.LLLL.LLLLLLLLLL.LLLLLLLLLLLLLLLLLLLLLLLLLL.LLLLLLLL.LLLLLLL', 'LLLLL.LLL.LLLLLLLLLLLLLLLLLL.LLLLLLLLLLL.LLLLL.LL.L.LLLLLLLLLL.LLLLLLLLLL.LLLLLLLLLLLLLLLLLLLLL', 'LLLLL.LLLLLLLLL.LLLLLL.LLLLL.LLLLLLLLLLLLLLLLL.LLLLLLLLLLLL..LLLL.LLLLLLL.LLLL.LLLLLLLL.LLLLLLL', 'LL.L..L..L.....LL......L.......LLLLL..L.L.LL...L......L.L..L.L.L........L..L.L.L..LLLL....L....', 'LLL.L.LLLLLLLLLLL.LLLL.LLLLL..LLLLLLLLLLLLLLLL.LLLL.LLLLLLLL.LLLL.LLLLLLL.L.LLL.LLLLLLL.LLLLLLL', 'LLLLLLLLLLLL.LLLLLLLLL.LLLLLLL.LLL.LLLL..LLL.LLLLLL.LLLLLLLL.LLLL.LL.LLLLLLLLLLLLLLLLLL.LLLLLLL', 'LLLLL.LLLLLL.LLLLLLLLLLLL.LL.LLLLLLLLLLLLLLLLLLLLLL..LLLLLLL.L.LLLLLLLLLL.LLLL.LLLLLLLLLLLLLLLL', 'LLLLL.LLLLLL.LLLLLLLLL.LLLLLLLLLLL.LLLLL.LLLLLLLLLL.LLLLLLLLLLLLL.LLLLLLLLLLLL.LL.LLLLL.LLLLLLL', 'LLLLL.L.LLLLLLLLLLLLLL.LLLLL.LLLLL.LLLLLLLLLLL.LLLL.LLLLLLLL.LLLL.LLLLLLL.LLLL.LL.LLLLL.LLLLLLL', 'LLLLL.LLLLLLLLLLLLLL.L.LLLLL.L.LLL.LLLLL.LLLLL.LLLLLLLLLLLLL.LLLLLLLLLLLLLLLLLLLLLLLLLLLLLLLLLL', 'LLLLLLLLLLLLLLLLLLLL.LLLLLLL.LLLLL.LLLLL.LLLLL.LL.L.LLL.LLLLLLLLL.LLLLLLL.LLLL.LLLLLLLL.LLLLLL.', 'LLLLL.LLLLLLLLLLLL.LLL.LLL.L.LLLLLLLL.LLLLLLLLLLLLLLLLLLLLLL.LLLL.LLLLLL..LLLL.LLLLLLLL..LLLLLL', 'LL.LL..L......L...L.....LL...L......L..L..LL...LL..L.L.....L.L...L...........LL...L.L.L..L.L.L.', 'LLLLL.LLLLLLLLLLLLLLLLLLLLLL.LLLLL.LLLLL.LLLLL.LLLL.LLLLLLLL.LLLL.LLLLLLL.LLLL.LLL.LLLL.LLLLLLL', 'LLLLLLLLLLLL.LLLLLLLLLLLLLLLLLLLL.LLLLLLLLLLLL.LLLLLLLLLLL.L.LLL..L.LLLLL.LLLLLLLLLLLLL.LLLLLLL', 'LLLLLLLLLLLL.LLLLLLLLLLLLLLL.LLLLLLLLLLL.LLLLL.LLLL.LLLLLLLL.LLLLLLLLLLLL.LLLLLLLLLLLLL.LLLLLLL', 'LLLLLLLLLLLLLLLLLLLLLL.LLLLL.LLLLL.LLLLL..LLLLLLLLL.LLLLLLLL.LLLLLLLLLLLLLLL.LLLLLLLLLL.LLLLLLL', 'LLLLL.LLLLLL.LLLLLLLLLLLLLLL.LLLLLLLLLLL.LLLLLLLLLL.LLLLLLLL.LLLLLLLLLLLL.LLLL..LLLLLLL.LLLLLLL', 'LLLLL.LLLLLLLLLLLLLLLLLLLLLL.LLLLLLLLLLL.LLLLL.LLLLLLLLLLLLL.LLLLLLLLLLLLLLLLL.LLLL.LLL.LL.LLLL', 'L....L..L..L...LL.L....L..LL.LL..L....L.L.....LL..........L...L...L..L.L.........L....L..L.....', 'LLLLL.LLLL.LLLLL.LLLLL..LLLL.LLLLL.LLLLLLLLLLLL.LLLLLLLLLLLL.LLLL.L.LLLLLLLLLL.LLLLLLLLLLL.LLLL', '..LLL.LLLLLL.LLLLLLLLLLLLLLLLLLLLL.LLLLLLLLLLL.LLLL.LLLLLLLLLLLL.LLLLLLLL.LLLL.LLLLLLLL.LLLLLLL', 'LLL.L.LLLLLLLLLLLLLLLL.LLLLL.LLLLLLL.LLL.LLLLL.LLLL.LLLLLLLL.LLLL.LLLLLLL.LLLL.LLLLLLLLLLLLLLLL', 'LLLLL.LLLLLL.LLLLLLLLL.LLLLLLLLLL.LLLLLLLLLLLLLLLLL.LLLLLLLL.LLLL.LLLLL.L.LLLL.LLLLLLLLLLLLLLLL', 'L.........LL.L..L.L....L.LLLL...L.L.....LLLL.........LL..LL....L...L..L.L...LL..LL...L.L.L..L.L', 'LLLLL.LLLLLL..LLLLLLLL.LLL.L.LLLLL.LLL.L.LLLLL.L.LL.LLLLLLLL.LLLL.L.LLLLL...LL.LL.LLLLLLLLLLLLL', 'LLLLL.LLLLLL.LLLLLLLLL.LLLLLLLLLLL.LLLLLLLLLLL.LLLLLLLLLLLLL.LLLLLLLLL.LL.LLLLLLLLLLLLLLLLLLLLL', 'LLLLLLLLLL.L.LLLLLLLLL.LLLLL.LLL.L.LLLLLLLLLLL.LLLL.LLLLLLLL.LLLLLLLLLLLL.LL.L.LLLLLLLL.L.LLLLL', 'LLLLL.LLLLLL.LLLLLLLLLLLLLL..LLLLL.LLLLL.LLLLL.LLLL.LLLLLLLL.LLLLLLLLLLLL.LLLL.LLLL.LLL.LLLLLLL', 'LLLLLLLLLLL..LLLLLLLLL.LLLLL.LLLLLLLLLLL.L.LLL.LLLL.LLLLLLLL.LLLL.LLLL.LL.LLL.LLLLLLLLLLLLLLLLL', 'LLLLL.LLLLLLLLLLLLLLLL.LLLLLL.LLLLLLLLLL.LLLLLLLLL..LLLLLLLL.LLLL.LLLLLLL.LLLL.LLLLLLLL.LLLLLLL', 'LLLLL.LLLLLL.LLLLLLLLL.LL.LLLLLLLLLLLLLL.LLLLL.LLLL.LLLLLLLL.LLLL.LLLLLLL.LLLL.LLLLLLLLLLLLLLLL', '.LLLL.LLLLLL.LLLLLLLLL.LLLLL.L.LLLLLLLLLLLLLLL.LLLL.LLLLLLLLLLLLL.LLLLLLL.LLLLLLLL.LL.L.LLLLLLL', 'LLLLL.LLLLLL.LLLLLLLLLLLLLLL.LLLLL.LLLLLLLLLLL.LLLLLLLLLLLLL.LLLLLLLLLLLL.L.L..LLLLLLLLLLLLLLLL']"
     ]
    },
    {
     "name": "stdout",
     "output_type": "stream",
     "text": [
      "\n",
      "L\n",
      "L\n",
      "L\n",
      "CL ['############.#######.#######..####.#####.#####.###..#############.#####################.#######', '#####.######.#########.#####.#.###.#####.####..####.#############.#######.####.########.#######', '#####.################.#####.#####.#.###.#####.##################.#####################..#####.', '#.##########.###############.#####.###########.####.########.##.#.#######.####.########.#######', '#####..#################################.####.#####.########.############.####.########.##.####', '#####.######.###############.###########.#####.####.#############.#######.####.########.#######', '#####.################.##############.##.#####.####.########.#####.######.#####################', '.#...##.#.#.#....#..#......##...#..#.#.###.....#...#..###.#.##..###......#..#.#####.....#..#...', '#####..#######.#######.#####.###########.#####.#############.########.###.#####################', '###.########..##############.#####.#####.#####.####.#.######.####.############.########.#######', '#####.#.####.#########.#####.#####.#####.#####.####.############..#######.##########.##.#######', '#####.######.#########.#####.#####.#####.#####.####.########.####.####.#######.###.####.#######', '############.#########.#####.#####.#####.#####.##################.#######.########.###...######', '###.########.#########.#####.######################.########.############.#####.######.########', '#####.################.##.##.#####.#####.#####.####.########.####.######..#############.#####.#', '#.##########.#########.#####.#.###.#####.##########.########.####.#####.#.####.########.#######', '#####.######.#########.##.##.#####.#####.#####.#############.####.#######.####.#.######.#######', '#...#.##..#.#.##.##.#.....#..#.#.......#.#.##...#....#......#.#.#.#.#..#....##......#......#...', '####..######.#####################.#####.#######.###########.#.####.####.#####..#######.#######', '#####.######.###.##.##.#######################.####.#############.############.###############.', '#..##.################.#####.#####.#####.#####.##.#.########.#################.#######..#######', '#####.######.#########.#####.#####.###########.####.########.####.#######.#############.#######', '#####.############################.#####.#######.###########.####.#######.#####.#.#####.#######', '##.##.################.###########.#####.#####.####.########.####.############.########.###.###', '...............#.#..##.....#.#..#...##.......##....#......#...#....#...............###...#.###.', '###########..######.########.#####.#####.##########..######################.###########.#.#####', '##.##.######.#########.#####.####..###########.#############.####.#######.###.#########.#######', '.####.#######.########.#####.###########.#####.#############.#################.################', '#####.######.#########.###########.#####.####.###############.###.############.#####.##########', '#####.#.####.###############.#####.#####.#####.####.########.####.#######.###..################', '############.###############.######.####.#####.####.#############.#######.#############.#######', '###.#.######.#####################.#####.#####.####.#############.############.########.#######', '############################.###########.#####.##################.#######.####.########.#######', '....#..#..........#......#.##..#.#..##.......#.....##..#..##...#......#....#..#..#....#.......#', '.#.#########.#########.#####.##########.######.##########.##.##########.#.####.########.#######', '######################.#####.#####.#####.#####.##################.####.#######.########.#######', '#####.###.##.###.#####.###########.#####.#####.####.#.##########..############.########.#######', '##.##.######.####.##########.####.###############.#.########.############.#.##.########.#######', '######################.#################.##########.########.############.####.#######..#######', '.....#.#..##.###.##.#.#.....#..#.#......#......#.##...#....##..#.........#..#.....#.#....#..#..', '######################.###########.###########.####.###################################.#######', '#####.######.###.#####.#####.######################.########.####.############.########.#######', '#####.################.#####.#################.####.########.####.#######.###..########.#######', '#####.######.###############.#.###.#####.##.##.####.#.#####...###.###.########.########.#######', '#####.#.####.###############.#####.###########.####.#############.#######.####.################', '#####.#####..#########.#.###.###.#.################.########.############.####.###############.', '############.########..#################.#####.####.########.####.#######.####.########.#######', '#####.######.####.####.#####.###########.#####.####.########.####.#####################.#######', '...#..##.#......#....###....#.#.##..#.#..#.##..#..#.#......#...#.#..#..##....#..#..##...##.....', '#..##.######.##########.##.#.#####.#.###.######.###.###########.#######################.#######', '#####.######.#########.#####.#####.#####.#####.#############.####..##.########.########.#######', '############.#.#######.#####.###########.#####.####.########.####.#######.#############.#######', '############.#####################.#####.#####.#####.#######.###########..#############.#######', '#####.########################################.#############.############.####.########.#######', '#####.######.#########.#####.##########.######.####.#.###.##.####.#######.#############.#######', '############.#########.###########.#####..##################.####.#######.####.################', '#####.######.#########.#################.###.#.####.########.####.############.########.#######', '##..#.#.#.#..##...##....#.#..#..###..#.##.#.####..#.#.#..#...#.....#..##........#...##..#.#.##.', '#####.####.#.##.######.#############.###.###################.###############.#.########.#######', '#####.######.#########.#####.######.####.##########.##########################.########.#######', '#####.###.##################.###########.#####.##.#.##########.##########.#####################', '#####.#########.######.#####.#################.############..####.#######.####.########.#######', '##.#..#..#.....##......#.......#####..#.#.##...#......#.#..#.#.#........#..#.#.#..####....#....', '###.#.###########.####.#####..################.####.########.####.#######.#.###.#######.#######', '############.#########.#######.###.####..###.######.########.####.##.##################.#######', '#####.######.############.##.######################..#######.#.##########.####.################', '#####.######.#########.###########.#####.##########.#############.############.##.#####.#######', '#####.#.##############.#####.#####.###########.####.########.####.#######.####.##.#####.#######', '#####.##############.#.#####.#.###.#####.#####.#############.##################################', '####################.#######.#####.#####.#####.##.#.###.#########.#######.####.########.######.', '#####.############.###.###.#.########.######################.####.######..####.########..######', '##.##..#......#...#.....##...#......#..#..##...##..#.#.....#.#...#...........##...#.#.#..#.#.#.', '#####.######################.#####.#####.#####.####.########.####.#######.####.###.####.#######', '############.####################.############.###########.#.###..#.#####.#############.#######', '############.###############.###########.#####.####.########.############.#############.#######', '######################.#####.#####.#####..#########.########.###############.##########.#######', '#####.######.###############.###########.##########.########.############.####..#######.#######', '#####.######################.###########.#####.#############.#################.####.###.##.####', '#....#..#..#...##.#....#..##.##..#....#.#.....##..........#...#...#..#.#.........#....#..#.....', '#####.####.#####.#####..####.#####.############.############.####.#.##########.###########.####', '..###.######.#####################.###########.####.############.########.####.########.#######', '###.#.################.#####.#######.###.#####.####.########.####.#######.####.################', '#####.######.#########.##########.#################.########.####.#####.#.####.################', '#.........##.#..#.#....#.####...#.#.....####.........##..##....#...#..#.#...##..##...#.#.#..#.#', '#####.######..########.###.#.#####.###.#.#####.#.##.########.####.#.#####...##.##.#############', '#####.######.#########.###########.###########.#############.#########.##.#####################', '##########.#.#########.#####.###.#.###########.####.########.############.##.#.########.#.#####', '#####.######.##############..#####.#####.#####.####.########.############.####.####.###.#######', '###########..#########.#####.###########.#.###.####.########.####.####.##.###.#################', '#####.################.######.##########.#########..########.####.#######.####.########.#######', '#####.######.#########.##.##############.#####.####.########.####.#######.####.################', '.####.######.#########.#####.#.###############.####.#############.#######.########.##.#.#######', '#####.######.###############.#####.###########.#############.############.#.#..################']\n"
     ]
    },
    {
     "name": "stdout",
     "output_type": "stream",
     "text": [
      "CL2 ['############.#######.#######..####.#####.#####.###..#############.#####################.#######', '#####.######.#########.#####.#.###.#####.####..####.#############.#######.####.########.#######', '#####.################.#####.#####.#.###.#####.##################.#####################..#####.', '#.##########.###############.#####.###########.####.########.##.#.#######.####.########.#######', '#####..#################################.####.#####.########.############.####.########.##.####', '#####.######.###############.###########.#####.####.#############.#######.####.########.#######', '#####.################.##############.##.#####.####.########.#####.######.#####################', '.#...##.#.#.#....#..#......##...#..#.#.###.....#...#..###.#.##..###......#..#.#####.....#..#...', '#####..#######.#######.#####.###########.#####.#############.########.###.#####################', '###.########..##############.#####.#####.#####.####.#.######.####.############.########.#######', '#####.#.####.#########.#####.#####.#####.#####.####.############..#######.##########.##.#######', '#####.######.#########.#####.#####.#####.#####.####.########.####.####.#######.###.####.#######', '############.#########.#####.#####.#####.#####.##################.#######.########.###...######', '###.########.#########.#####.######################.########.############.#####.######.########', '#####.################.##.##.#####.#####.#####.####.########.####.######..#############.#####.#', '#.##########.#########.#####.#.###.#####.##########.########.####.#####.#.####.########.#######', '#####.######.#########.##.##.#####.#####.#####.#############.####.#######.####.#.######.#######', '#...#.##..#.#.##.##.#.....#..#.#.......#.#.##...#....#......#.#.#.#.#..#....##......#......#...', '####..######.#####################.#####.#######.###########.#.####.####.#####..#######.#######', '#####.######.###.##.##.#######################.####.#############.############.###############.', '#..##.################.#####.#####.#####.#####.##.#.########.#################.#######..#######', '#####.######.#########.#####.#####.###########.####.########.####.#######.#############.#######', '#####.############################.#####.#######.###########.####.#######.#####.#.#####.#######', '##.##.################.###########.#####.#####.####.########.####.############.########.###.###', '...............#.#..##.....#.#..#...##.......##....#......#...#....#...............###...#.###.', '###########..######.########.#####.#####.##########..######################.###########.#.#####', '##.##.######.#########.#####.####..###########.#############.####.#######.###.#########.#######', '.####.#######.########.#####.###########.#####.#############.#################.################', '#####.######.#########.###########.#####.####.###############.###.############.#####.##########', '#####.#.####.###############.#####.#####.#####.####.########.####.#######.###..################', '############.###############.######.####.#####.####.#############.#######.#############.#######', '###.#.######.#####################.#####.#####.####.#############.############.########.#######', '############################.###########.#####.##################.#######.####.########.#######', '....#..#..........#......#.##..#.#..##.......#.....##..#..##...#......#....#..#..#....#.......#', '.#.#########.#########.#####.##########.######.##########.##.##########.#.####.########.#######', '######################.#####.#####.#####.#####.##################.####.#######.########.#######', '#####.###.##.###.#####.###########.#####.#####.####.#.##########..############.########.#######', '##.##.######.####.##########.####.###############.#.########.############.#.##.########.#######', '######################.#################.##########.########.############.####.#######..#######', '.....#.#..##.###.##.#.#.....#..#.#......#......#.##...#....##..#.........#..#.....#.#....#..#..', '######################.###########.###########.####.###################################.#######', '#####.######.###.#####.#####.######################.########.####.############.########.#######', '#####.################.#####.#################.####.########.####.#######.###..########.#######', '#####.######.###############.#.###.#####.##.##.####.#.#####...###.###.########.########.#######', '#####.#.####.###############.#####.###########.####.#############.#######.####.################', '#####.#####..#########.#.###.###.#.################.########.############.####.###############.', '############.########..#################.#####.####.########.####.#######.####.########.#######', '#####.######.####.####.#####.###########.#####.####.########.####.#####################.#######', '...#..##.#......#....###....#.#.##..#.#..#.##..#..#.#......#...#.#..#..##....#..#..##...##.....', '#..##.######.##########.##.#.#####.#.###.######.###.###########.#######################.#######', '#####.######.#########.#####.#####.#####.#####.#############.####..##.########.########.#######', '############.#.#######.#####.###########.#####.####.########.####.#######.#############.#######', '############.#####################.#####.#####.#####.#######.###########..#############.#######', '#####.########################################.#############.############.####.########.#######', '#####.######.#########.#####.##########.######.####.#.###.##.####.#######.#############.#######', '############.#########.###########.#####..##################.####.#######.####.################', '#####.######.#########.#################.###.#.####.########.####.############.########.#######', '##..#.#.#.#..##...##....#.#..#..###..#.##.#.####..#.#.#..#...#.....#..##........#...##..#.#.##.', '#####.####.#.##.######.#############.###.###################.###############.#.########.#######', '#####.######.#########.#####.######.####.##########.##########################.########.#######', '#####.###.##################.###########.#####.##.#.##########.##########.#####################', '#####.#########.######.#####.#################.############..####.#######.####.########.#######', '##.#..#..#.....##......#.......#####..#.#.##...#......#.#..#.#.#........#..#.#.#..####....#....', '###.#.###########.####.#####..################.####.########.####.#######.#.###.#######.#######', '############.#########.#######.###.####..###.######.########.####.##.##################.#######', '#####.######.############.##.######################..#######.#.##########.####.################', '#####.######.#########.###########.#####.##########.#############.############.##.#####.#######', '#####.#.##############.#####.#####.###########.####.########.####.#######.####.##.#####.#######', '#####.##############.#.#####.#.###.#####.#####.#############.##################################', '####################.#######.#####.#####.#####.##.#.###.#########.#######.####.########.######.', '#####.############.###.###.#.########.######################.####.######..####.########..######', '##.##..#......#...#.....##...#......#..#..##...##..#.#.....#.#...#...........##...#.#.#..#.#.#.', '#####.######################.#####.#####.#####.####.########.####.#######.####.###.####.#######', '############.####################.############.###########.#.###..#.#####.#############.#######', '############.###############.###########.#####.####.########.############.#############.#######', '######################.#####.#####.#####..#########.########.###############.##########.#######', '#####.######.###############.###########.##########.########.############.####..#######.#######', '#####.######################.###########.#####.#############.#################.####.###.##.####', '#....#..#..#...##.#....#..##.##..#....#.#.....##..........#...#...#..#.#.........#....#..#.....', '#####.####.#####.#####..####.#####.############.############.####.#.##########.###########.####', '..###.######.#####################.###########.####.############.########.####.########.#######', '###.#.################.#####.#######.###.#####.####.########.####.#######.####.################', '#####.######.#########.##########.#################.########.####.#####.#.####.################', '#.........##.#..#.#....#.####...#.#.....####.........##..##....#...#..#.#...##..##...#.#.#..#.#', '#####.######..########.###.#.#####.###.#.#####.#.##.########.####.#.#####...##.##.#############', '#####.######.#########.###########.###########.#############.#########.##.#####################', '##########.#.#########.#####.###.#.###########.####.########.############.##.#.########.#.#####', '#####.######.##############..#####.#####.#####.####.########.############.####.####.###.#######', '###########..#########.#####.###########.#.###.####.########.####.####.##.###.#################', '#####.################.######.##########.#########..########.####.#######.####.########.#######', '#####.######.#########.##.##############.#####.####.########.####.#######.####.################', '.####.######.#########.#####.#.###############.####.#############.#######.########.##.#.#######', '#####.######.###############.#####.###########.#############.############.#.#..################']"
     ]
    },
    {
     "name": "stdout",
     "output_type": "stream",
     "text": [
      "\n"
     ]
    },
    {
     "data": {
      "text/plain": [
       "['############.#######.#######..####.#####.#####.###..#############.#####################.#######',\n",
       " '#####.######.#########.#####.#.###.#####.####..####.#############.#######.####.########.#######',\n",
       " '#####.################.#####.#####.#.###.#####.##################.#####################..#####.',\n",
       " '#.##########.###############.#####.###########.####.########.##.#.#######.####.########.#######',\n",
       " '#####..#################################.####.#####.########.############.####.########.##.####',\n",
       " '#####.######.###############.###########.#####.####.#############.#######.####.########.#######',\n",
       " '#####.################.##############.##.#####.####.########.#####.######.#####################',\n",
       " '.#...##.#.#.#....#..#......##...#..#.#.###.....#...#..###.#.##..###......#..#.#####.....#..#...',\n",
       " '#####..#######.#######.#####.###########.#####.#############.########.###.#####################',\n",
       " '###.########..##############.#####.#####.#####.####.#.######.####.############.########.#######',\n",
       " '#####.#.####.#########.#####.#####.#####.#####.####.############..#######.##########.##.#######',\n",
       " '#####.######.#########.#####.#####.#####.#####.####.########.####.####.#######.###.####.#######',\n",
       " '############.#########.#####.#####.#####.#####.##################.#######.########.###...######',\n",
       " '###.########.#########.#####.######################.########.############.#####.######.########',\n",
       " '#####.################.##.##.#####.#####.#####.####.########.####.######..#############.#####.#',\n",
       " '#.##########.#########.#####.#.###.#####.##########.########.####.#####.#.####.########.#######',\n",
       " '#####.######.#########.##.##.#####.#####.#####.#############.####.#######.####.#.######.#######',\n",
       " '#...#.##..#.#.##.##.#.....#..#.#.......#.#.##...#....#......#.#.#.#.#..#....##......#......#...',\n",
       " '####..######.#####################.#####.#######.###########.#.####.####.#####..#######.#######',\n",
       " '#####.######.###.##.##.#######################.####.#############.############.###############.',\n",
       " '#..##.################.#####.#####.#####.#####.##.#.########.#################.#######..#######',\n",
       " '#####.######.#########.#####.#####.###########.####.########.####.#######.#############.#######',\n",
       " '#####.############################.#####.#######.###########.####.#######.#####.#.#####.#######',\n",
       " '##.##.################.###########.#####.#####.####.########.####.############.########.###.###',\n",
       " '...............#.#..##.....#.#..#...##.......##....#......#...#....#...............###...#.###.',\n",
       " '###########..######.########.#####.#####.##########..######################.###########.#.#####',\n",
       " '##.##.######.#########.#####.####..###########.#############.####.#######.###.#########.#######',\n",
       " '.####.#######.########.#####.###########.#####.#############.#################.################',\n",
       " '#####.######.#########.###########.#####.####.###############.###.############.#####.##########',\n",
       " '#####.#.####.###############.#####.#####.#####.####.########.####.#######.###..################',\n",
       " '############.###############.######.####.#####.####.#############.#######.#############.#######',\n",
       " '###.#.######.#####################.#####.#####.####.#############.############.########.#######',\n",
       " '############################.###########.#####.##################.#######.####.########.#######',\n",
       " '....#..#..........#......#.##..#.#..##.......#.....##..#..##...#......#....#..#..#....#.......#',\n",
       " '.#.#########.#########.#####.##########.######.##########.##.##########.#.####.########.#######',\n",
       " '######################.#####.#####.#####.#####.##################.####.#######.########.#######',\n",
       " '#####.###.##.###.#####.###########.#####.#####.####.#.##########..############.########.#######',\n",
       " '##.##.######.####.##########.####.###############.#.########.############.#.##.########.#######',\n",
       " '######################.#################.##########.########.############.####.#######..#######',\n",
       " '.....#.#..##.###.##.#.#.....#..#.#......#......#.##...#....##..#.........#..#.....#.#....#..#..',\n",
       " '######################.###########.###########.####.###################################.#######',\n",
       " '#####.######.###.#####.#####.######################.########.####.############.########.#######',\n",
       " '#####.################.#####.#################.####.########.####.#######.###..########.#######',\n",
       " '#####.######.###############.#.###.#####.##.##.####.#.#####...###.###.########.########.#######',\n",
       " '#####.#.####.###############.#####.###########.####.#############.#######.####.################',\n",
       " '#####.#####..#########.#.###.###.#.################.########.############.####.###############.',\n",
       " '############.########..#################.#####.####.########.####.#######.####.########.#######',\n",
       " '#####.######.####.####.#####.###########.#####.####.########.####.#####################.#######',\n",
       " '...#..##.#......#....###....#.#.##..#.#..#.##..#..#.#......#...#.#..#..##....#..#..##...##.....',\n",
       " '#..##.######.##########.##.#.#####.#.###.######.###.###########.#######################.#######',\n",
       " '#####.######.#########.#####.#####.#####.#####.#############.####..##.########.########.#######',\n",
       " '############.#.#######.#####.###########.#####.####.########.####.#######.#############.#######',\n",
       " '############.#####################.#####.#####.#####.#######.###########..#############.#######',\n",
       " '#####.########################################.#############.############.####.########.#######',\n",
       " '#####.######.#########.#####.##########.######.####.#.###.##.####.#######.#############.#######',\n",
       " '############.#########.###########.#####..##################.####.#######.####.################',\n",
       " '#####.######.#########.#################.###.#.####.########.####.############.########.#######',\n",
       " '##..#.#.#.#..##...##....#.#..#..###..#.##.#.####..#.#.#..#...#.....#..##........#...##..#.#.##.',\n",
       " '#####.####.#.##.######.#############.###.###################.###############.#.########.#######',\n",
       " '#####.######.#########.#####.######.####.##########.##########################.########.#######',\n",
       " '#####.###.##################.###########.#####.##.#.##########.##########.#####################',\n",
       " '#####.#########.######.#####.#################.############..####.#######.####.########.#######',\n",
       " '##.#..#..#.....##......#.......#####..#.#.##...#......#.#..#.#.#........#..#.#.#..####....#....',\n",
       " '###.#.###########.####.#####..################.####.########.####.#######.#.###.#######.#######',\n",
       " '############.#########.#######.###.####..###.######.########.####.##.##################.#######',\n",
       " '#####.######.############.##.######################..#######.#.##########.####.################',\n",
       " '#####.######.#########.###########.#####.##########.#############.############.##.#####.#######',\n",
       " '#####.#.##############.#####.#####.###########.####.########.####.#######.####.##.#####.#######',\n",
       " '#####.##############.#.#####.#.###.#####.#####.#############.##################################',\n",
       " '####################.#######.#####.#####.#####.##.#.###.#########.#######.####.########.######.',\n",
       " '#####.############.###.###.#.########.######################.####.######..####.########..######',\n",
       " '##.##..#......#...#.....##...#......#..#..##...##..#.#.....#.#...#...........##...#.#.#..#.#.#.',\n",
       " '#####.######################.#####.#####.#####.####.########.####.#######.####.###.####.#######',\n",
       " '############.####################.############.###########.#.###..#.#####.#############.#######',\n",
       " '############.###############.###########.#####.####.########.############.#############.#######',\n",
       " '######################.#####.#####.#####..#########.########.###############.##########.#######',\n",
       " '#####.######.###############.###########.##########.########.############.####..#######.#######',\n",
       " '#####.######################.###########.#####.#############.#################.####.###.##.####',\n",
       " '#....#..#..#...##.#....#..##.##..#....#.#.....##..........#...#...#..#.#.........#....#..#.....',\n",
       " '#####.####.#####.#####..####.#####.############.############.####.#.##########.###########.####',\n",
       " '..###.######.#####################.###########.####.############.########.####.########.#######',\n",
       " '###.#.################.#####.#######.###.#####.####.########.####.#######.####.################',\n",
       " '#####.######.#########.##########.#################.########.####.#####.#.####.################',\n",
       " '#.........##.#..#.#....#.####...#.#.....####.........##..##....#...#..#.#...##..##...#.#.#..#.#',\n",
       " '#####.######..########.###.#.#####.###.#.#####.#.##.########.####.#.#####...##.##.#############',\n",
       " '#####.######.#########.###########.###########.#############.#########.##.#####################',\n",
       " '##########.#.#########.#####.###.#.###########.####.########.############.##.#.########.#.#####',\n",
       " '#####.######.##############..#####.#####.#####.####.########.############.####.####.###.#######',\n",
       " '###########..#########.#####.###########.#.###.####.########.####.####.##.###.#################',\n",
       " '#####.################.######.##########.#########..########.####.#######.####.########.#######',\n",
       " '#####.######.#########.##.##############.#####.####.########.####.#######.####.################',\n",
       " '.####.######.#########.#####.#.###############.####.#############.#######.########.##.#.#######',\n",
       " '#####.######.###############.#####.###########.#############.############.#.#..################']"
      ]
     },
     "execution_count": 49,
     "metadata": {},
     "output_type": "execute_result"
    }
   ],
   "source": [
    "current_list = lst.copy()\n",
    "\n",
    "#If a seat is empty (L) and there are no occupied seats adjacent to it, the seat becomes occupied.\n",
    "#If a seat is occupied (#) and four or more seats adjacent to it are also occupied, the seat becomes empty.\n",
    "#Otherwise, the seat's state does not change.\n",
    "current_list2 = []\n",
    "while current_list != current_list2:\n",
    "    current_list2 = current_list.copy()\n",
    "    for x in range(len(lst)):\n",
    "        for y in range(len(lst[x])):\n",
    "            empty,floor,occupied=0,0,0\n",
    "            if x == 0: \n",
    "                if y == 0:\n",
    "                    for val in [lst[x][y+1],lst[x+1][y],lst[x+1][y+1]]:\n",
    "                        print(val)\n",
    "                        if val == 'L':\n",
    "                            empty+=1\n",
    "                        elif val == '.':\n",
    "                            floor+=1\n",
    "                        else:\n",
    "                            occupied+=1\n",
    "                            \n",
    "                    if current_list[x][y] == \"L\" and occupied == 0:\n",
    "                        current_list[x] = current_list[x][:y]+\"#\"+current_list[x][y+1:]\n",
    "                    elif current_list[x][y] == \"#\" and occupied >= 4:\n",
    "                        current_list[x] = current_list[x][:y]+\"L\"+current_list[x][y+1:]\n",
    "\n",
    "    \n",
    "                if y == len(lst[x])-1:\n",
    "                    for val in [lst[x][y-1],lst[x+1][y-1],lst[x+1][y]]:\n",
    "                        if val == 'L':\n",
    "                            empty+=1\n",
    "                        elif val == '.':\n",
    "                            floor+=1\n",
    "                        else:\n",
    "                            occupied+=1\n",
    "\n",
    "                    if current_list[x][y] == \"L\" and occupied == 0:\n",
    "                        current_list[x] = current_list[x][:y]+\"#\"+current_list[x][y+1:]\n",
    "                    elif current_list[x][y] == \"#\" and occupied >= 4:\n",
    "                        current_list[x] = current_list[x][:y]+\"L\"+current_list[x][y+1:]\n",
    "                else:\n",
    "                    for val in [lst[x][y-1],lst[x][y+1],lst[x+1][y-1],lst[x+1][y],lst[x+1][y+1]]:\n",
    "                        if val == 'L':\n",
    "                            empty+=1\n",
    "                        elif val == '.':\n",
    "                            floor+=1\n",
    "                        else:\n",
    "                            occupied+=1\n",
    "\n",
    "                    if current_list[x][y] == \"L\" and occupied == 0:\n",
    "                        current_list[x] = current_list[x][:y]+\"#\"+current_list[x][y+1:]\n",
    "                    elif current_list[x][y] == \"#\" and occupied >= 4:\n",
    "                        current_list[x] = current_list[x][:y]+\"L\"+current_list[x][y+1:]\n",
    "                # TOP\n",
    "\n",
    "            elif y == 0:\n",
    "                if x == len(lst)-1:\n",
    "                    for val in [lst[x-1][y],lst[x-1][y+1],lst[x][y+1]]:\n",
    "                        if val == 'L':\n",
    "                            empty+=1\n",
    "                        elif val == '.':\n",
    "                            floor+=1\n",
    "                        else:\n",
    "                            occupied+=1\n",
    "\n",
    "                    if current_list[x][y] == \"L\" and occupied == 0:\n",
    "                        current_list[x] = current_list[x][:y]+\"#\"+current_list[x][y+1:]\n",
    "                    elif current_list[x][y] == \"#\" and occupied >= 4:\n",
    "                        current_list[x] = current_list[x][:y]+\"L\"+current_list[x][y+1:]\n",
    "                else:\n",
    "                    for val in [lst[x-1][y],lst[x-1][y+1],lst[x][y+1],lst[x+1][y],lst[x+1][y+1]]:\n",
    "                        if val == 'L':\n",
    "                            empty+=1\n",
    "                        elif val == '.':\n",
    "                            floor+=1\n",
    "                        else:\n",
    "                            occupied+=1\n",
    "\n",
    "                    if current_list[x][y] == \"L\" and occupied == 0:\n",
    "                        current_list[x] = current_list[x][:y]+\"#\"+current_list[x][y+1:]\n",
    "                    elif current_list[x][y] == \"#\" and occupied >= 4:\n",
    "                        current_list[x] = current_list[x][:y]+\"L\"+current_list[x][y+1:]\n",
    "                # LEFT\n",
    "\n",
    "            elif x == len(lst)-1:\n",
    "                if y == len(lst[x])-1:\n",
    "                    for val in [lst[x-1][y-1],lst[x-1][y],lst[x][y-1]]:\n",
    "                        if val == 'L':\n",
    "                            empty+=1\n",
    "                        elif val == '.':\n",
    "                            floor+=1\n",
    "                        else:\n",
    "                            occupied+=1\n",
    "\n",
    "                    if current_list[x][y] == \"L\" and occupied == 0:\n",
    "                        current_list[x] = current_list[x][:y]+\"#\"+current_list[x][y+1:]\n",
    "                    elif current_list[x][y] == \"#\" and occupied >= 4:\n",
    "                        current_list[x] = current_list[x][:y]+\"L\"+current_list[x][y+1:]\n",
    "                else:\n",
    "                    for val in [lst[x-1][y-1],lst[x-1][y],lst[x-1][y+1],lst[x][y-1],lst[x][y+1]]:\n",
    "                        if val == 'L':\n",
    "                            empty+=1\n",
    "                        elif val == '.':\n",
    "                            floor+=1\n",
    "                        else:\n",
    "                            occupied+=1\n",
    "\n",
    "                    if current_list[x][y] == \"L\" and occupied == 0:\n",
    "                        current_list[x] = current_list[x][:y]+\"#\"+current_list[x][y+1:]\n",
    "                    elif current_list[x][y] == \"#\" and occupied >= 4:\n",
    "                        current_list[x] = current_list[x][:y]+\"L\"+current_list[x][y+1:]\n",
    "                    # BOTTOM\n",
    "            elif y == len(lst[x])-1:\n",
    "                for val in [lst[x-1][y-1],lst[x-1][y],lst[x][y-1],lst[x+1][y-1],lst[x+1][y]]:\n",
    "                    if val == 'L':\n",
    "                        empty+=1\n",
    "                    elif val == '.':\n",
    "                        floor+=1\n",
    "                    else:\n",
    "                        occupied+=1\n",
    "\n",
    "                if current_list[x][y] == \"L\" and occupied == 0:\n",
    "                    current_list[x] = current_list[x][:y]+\"#\"+current_list[x][y+1:]\n",
    "                elif current_list[x][y] == \"#\" and occupied >= 4:\n",
    "                    current_list[x] = current_list[x][:y]+\"L\"+current_list[x][y+1:]\n",
    "                # RIGHT\n",
    "            else:\n",
    "                for val in [lst[x-1][y-1],lst[x-1][y],lst[x-1][y+1],lst[x][y-1],lst[x][y+1],lst[x+1][y-1],lst[x+1][y],lst[x+1][y+1]]:\n",
    "                    if val == 'L':\n",
    "                        empty+=1\n",
    "                    elif val == '.':\n",
    "                        floor+=1\n",
    "                    else:\n",
    "                        occupied+=1\n",
    "\n",
    "                if current_list[x][y] == \"L\" and occupied == 0:\n",
    "                    current_list[x] = current_list[x][:y]+\"#\"+current_list[x][y+1:]\n",
    "                elif current_list[x][y] == \"#\" and occupied >= 4:\n",
    "                    current_list[x] = current_list[x][:y]+\"L\"+current_list[x][y+1:]\n",
    "    print(\"CL\",current_list)\n",
    "    print(\"CL2\",current_list2)\n",
    "current_list"
   ]
  },
  {
   "cell_type": "code",
   "execution_count": 6,
   "metadata": {},
   "outputs": [
    {
     "data": {
      "text/plain": [
       "95"
      ]
     },
     "execution_count": 6,
     "metadata": {},
     "output_type": "execute_result"
    }
   ],
   "source": [
    "len(lst[0])"
   ]
  },
  {
   "cell_type": "code",
   "execution_count": 25,
   "metadata": {},
   "outputs": [
    {
     "data": {
      "text/plain": [
       "[1, 2, 3, 6, 9, 10, 13, 14, 15, 18]"
      ]
     },
     "execution_count": 25,
     "metadata": {},
     "output_type": "execute_result"
    }
   ],
   "source": [
    "nl =[]\n",
    "for i in lst:\n",
    "    nl.append(int(i))\n",
    "nl.sort()\n",
    "nl[0:10]"
   ]
  },
  {
   "cell_type": "code",
   "execution_count": 26,
   "metadata": {},
   "outputs": [
    {
     "name": "stdout",
     "output_type": "stream",
     "text": [
      "Done\n"
     ]
    },
    {
     "data": {
      "text/plain": [
       "74"
      ]
     },
     "execution_count": 26,
     "metadata": {},
     "output_type": "execute_result"
    }
   ],
   "source": [
    "ones = 1\n",
    "threes = 1\n",
    "\n",
    "\n",
    "for i in nl:\n",
    "    if i + 1 in nl:\n",
    "        ones+=1\n",
    "    elif i + 2 in nl:\n",
    "        pass\n",
    "    elif i + 3 in nl:\n",
    "        threes+=1\n",
    "    else:\n",
    "        print(\"Done\")\n",
    "ones"
   ]
  },
  {
   "cell_type": "code",
   "execution_count": 27,
   "metadata": {},
   "outputs": [
    {
     "name": "stdout",
     "output_type": "stream",
     "text": [
      "That's the right answer!  You are one gold star closer to saving your vacation. [Continue to Part Two]\n"
     ]
    },
    {
     "data": {
      "text/plain": [
       "<Response [200]>"
      ]
     },
     "execution_count": 27,
     "metadata": {},
     "output_type": "execute_result"
    }
   ],
   "source": [
    "aocd.submit(ones*threes, part='a', day=10, year=2020)"
   ]
  },
  {
   "cell_type": "code",
   "execution_count": 147,
   "metadata": {},
   "outputs": [
    {
     "data": {
      "text/plain": [
       "[0, 1, 2, 3, 6, 9, 10, 13, 14, 15]"
      ]
     },
     "execution_count": 147,
     "metadata": {},
     "output_type": "execute_result"
    }
   ],
   "source": [
    "nl[0:10]"
   ]
  },
  {
   "cell_type": "code",
   "execution_count": 59,
   "metadata": {},
   "outputs": [
    {
     "data": {
      "text/plain": [
       "[19, 16, 13, 10, 7, 4, 1]"
      ]
     },
     "execution_count": 59,
     "metadata": {},
     "output_type": "execute_result"
    }
   ],
   "source": [
    "list(range(1,22,3))[::-1]"
   ]
  },
  {
   "cell_type": "code",
   "execution_count": 145,
   "metadata": {},
   "outputs": [
    {
     "data": {
      "text/plain": [
       "296196766695424"
      ]
     },
     "execution_count": 145,
     "metadata": {},
     "output_type": "execute_result"
    }
   ],
   "source": [
    "amount = 1\n",
    "\n",
    "nl =[]\n",
    "for i in lst:\n",
    "    nl.append(int(i))\n",
    "\n",
    "bl = nl\n",
    "bl.append(0)\n",
    "bl.append(max(bl)+3)\n",
    "bl.sort()\n",
    "\n",
    "amount = 1\n",
    "\n",
    "x = min(bl)\n",
    "while x != max(bl):\n",
    "    if (x + 1 in bl) and (x + 2 in bl) and (x + 3 in bl) and (x + 4 in bl) and (x + 5 in bl) and (x + 6 in bl):\n",
    "        #calculated possible permutations\n",
    "        amount = amount * 24\n",
    "        x += 6\n",
    "    elif (x + 1 in bl) and (x + 2 in bl) and (x + 3 in bl) and (x + 4 in bl) and (x + 5 in bl):\n",
    "        amount = amount * 13\n",
    "        x += 5\n",
    "    elif (x + 1 in bl) and (x + 2 in bl) and (x + 3 in bl) and (x + 4 in bl):\n",
    "        amount = amount * 7\n",
    "        x += 4\n",
    "    elif (x + 1 in bl) and (x + 2 in bl) and (x + 3 in bl):\n",
    "        amount = amount * 4\n",
    "        x += 3\n",
    "    elif ((x + 1) in bl) and (x + 2 in bl) and (x + 3  not in bl):\n",
    "        amount = amount * 2\n",
    "        x += 2\n",
    "    elif (x + 1 in bl) and (x + 2 not in bl) and (x + 3 in bl):\n",
    "        amount = amount * 2\n",
    "        x += 3\n",
    "    elif (x + 1 not in bl) and (x + 2 in bl) and (x + 3 in bl):\n",
    "        amount = amount * 2\n",
    "        x += 3\n",
    "    elif (x + 1 not in bl) and (x + 2 in bl) and (x + 3  not in bl):\n",
    "        amount = amount * 1\n",
    "        x += 2\n",
    "    elif (x + 1 in bl) and (x + 2 not in bl) and (x + 3 not in bl):\n",
    "        amount = amount * 1\n",
    "        x += 1\n",
    "    elif (x + 1 not in bl) and (x + 2 not in bl) and (x + 3 in bl):\n",
    "        amount = amount * 1\n",
    "        x += 3\n",
    "    else:\n",
    "        amount = amount * 1\n",
    "amount\n",
    "        "
   ]
  },
  {
   "cell_type": "code",
   "execution_count": 146,
   "metadata": {},
   "outputs": [
    {
     "name": "stdout",
     "output_type": "stream",
     "text": [
      "That's the right answer!  You are one gold star closer to saving your vacation.You have completed Day 10! You can [Shareon\n",
      "  Twitter\n",
      "Mastodon] this victory or [Return to Your Advent Calendar].\n"
     ]
    },
    {
     "data": {
      "text/plain": [
       "<Response [200]>"
      ]
     },
     "execution_count": 146,
     "metadata": {},
     "output_type": "execute_result"
    }
   ],
   "source": [
    "aocd.submit(amount, part='b', day=10, year=2020)"
   ]
  },
  {
   "cell_type": "code",
   "execution_count": 85,
   "metadata": {},
   "outputs": [],
   "source": [
    "from copy import deepcopy"
   ]
  },
  {
   "cell_type": "code",
   "execution_count": 90,
   "metadata": {},
   "outputs": [
    {
     "data": {
      "text/plain": [
       "2277"
      ]
     },
     "execution_count": 90,
     "metadata": {},
     "output_type": "execute_result"
    }
   ],
   "source": [
    "from copy import deepcopy\n",
    "\n",
    "def print_map(seats):\n",
    "    for row in seats:\n",
    "        print(row)\n",
    "\n",
    "def solution1():\n",
    "    seat_map = [list(row) for row in lst]\n",
    "    seat_map2 = deepcopy(seat_map)\n",
    "    directions = [[0, 1], [1, 0], [0, -1], [-1, 0], [1, 1], [-1, -1], [1, -1], [-1, 1]]\n",
    "    num_rows = len(seat_map)\n",
    "    num_cols = len(seat_map[0])\n",
    "\n",
    "    while True:\n",
    "        something_changed = False\n",
    "        for r in range(num_rows):\n",
    "            for c in range(num_cols):\n",
    "                if seat_map[r][c] == \".\":\n",
    "                    continue\n",
    "                s = sum([1 if r+d[0] >= 0 and r+d[0] < num_rows and c+d[1] >= 0 and c+d[1] < num_cols and seat_map[r+d[0]][c+d[1]] == \"#\" else 0 for d in directions])\n",
    "                if seat_map[r][c] == \"L\" and s == 0:\n",
    "                    seat_map2[r][c] = \"#\"\n",
    "                    something_changed = True\n",
    "                elif seat_map[r][c] == \"#\" and s >= 4:\n",
    "                    seat_map2[r][c] = \"L\"\n",
    "                    something_changed = True\n",
    "        seat_map = deepcopy(seat_map2)\n",
    "        if not something_changed:\n",
    "            break\n",
    "    \n",
    "    count = 0\n",
    "    for row in seat_map:\n",
    "        for s in row:\n",
    "            count += 1 if s == \"#\" else 0\n",
    "    return count\n",
    "\n",
    "solution1()"
   ]
  },
  {
   "cell_type": "code",
   "execution_count": null,
   "metadata": {},
   "outputs": [],
   "source": []
  }
 ],
 "metadata": {
  "kernelspec": {
   "display_name": "Python 3",
   "language": "python",
   "name": "python3"
  },
  "language_info": {
   "codemirror_mode": {
    "name": "ipython",
    "version": 3
   },
   "file_extension": ".py",
   "mimetype": "text/x-python",
   "name": "python",
   "nbconvert_exporter": "python",
   "pygments_lexer": "ipython3",
   "version": "3.7.3"
  }
 },
 "nbformat": 4,
 "nbformat_minor": 2
}
