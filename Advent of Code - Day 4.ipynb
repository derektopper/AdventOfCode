{
 "cells": [
  {
   "cell_type": "markdown",
   "metadata": {},
   "source": [
    "# Advent Of Code Day 4\n",
    "\n",
    "I am using this as a baseline and will be trying to improve speed over the next few advent events."
   ]
  },
  {
   "cell_type": "code",
   "execution_count": 1,
   "metadata": {},
   "outputs": [
    {
     "name": "stdout",
     "output_type": "stream",
     "text": [
      "Requirement already satisfied: advent-of-code-data in c:\\programdata\\anaconda3\\lib\\site-packages (0.8.5)\n",
      "Requirement already satisfied: pebble in c:\\programdata\\anaconda3\\lib\\site-packages (from advent-of-code-data) (4.5.3)\n",
      "Requirement already satisfied: termcolor in c:\\programdata\\anaconda3\\lib\\site-packages (from advent-of-code-data) (1.1.0)\n",
      "Requirement already satisfied: python-dateutil in c:\\programdata\\anaconda3\\lib\\site-packages (from advent-of-code-data) (2.8.0)\n",
      "Requirement already satisfied: beautifulsoup4 in c:\\programdata\\anaconda3\\lib\\site-packages (from advent-of-code-data) (4.7.1)\n",
      "Requirement already satisfied: colorama; platform_system == \"Windows\" in c:\\programdata\\anaconda3\\lib\\site-packages (from advent-of-code-data) (0.4.1)\n",
      "Requirement already satisfied: requests in c:\\programdata\\anaconda3\\lib\\site-packages (from advent-of-code-data) (2.22.0)\n",
      "Requirement already satisfied: six>=1.5 in c:\\programdata\\anaconda3\\lib\\site-packages (from python-dateutil->advent-of-code-data) (1.12.0)\n",
      "Requirement already satisfied: soupsieve>=1.2 in c:\\programdata\\anaconda3\\lib\\site-packages (from beautifulsoup4->advent-of-code-data) (1.8)\n",
      "Requirement already satisfied: certifi>=2017.4.17 in c:\\programdata\\anaconda3\\lib\\site-packages (from requests->advent-of-code-data) (2019.6.16)\n",
      "Requirement already satisfied: chardet<3.1.0,>=3.0.2 in c:\\programdata\\anaconda3\\lib\\site-packages (from requests->advent-of-code-data) (3.0.4)\n",
      "Requirement already satisfied: urllib3!=1.25.0,!=1.25.1,<1.26,>=1.21.1 in c:\\programdata\\anaconda3\\lib\\site-packages (from requests->advent-of-code-data) (1.24.2)\n",
      "Requirement already satisfied: idna<2.9,>=2.5 in c:\\programdata\\anaconda3\\lib\\site-packages (from requests->advent-of-code-data) (2.8)\n"
     ]
    }
   ],
   "source": [
    "!pip install advent-of-code-data\n",
    "\n",
    "from aocd import data, submit\n",
    "import aocd"
   ]
  },
  {
   "cell_type": "code",
   "execution_count": 28,
   "metadata": {},
   "outputs": [
    {
     "data": {
      "text/plain": [
       "247"
      ]
     },
     "execution_count": 28,
     "metadata": {},
     "output_type": "execute_result"
    }
   ],
   "source": [
    "import re\n",
    "\n",
    "lst = data.split('\\n')\n",
    "\n",
    "item_list = []\n",
    "\n",
    "count = 0\n",
    "passport_checker = 0\n",
    "for i in lst:\n",
    "\n",
    "    m = re.sub(\"\\d+\", \"\", i)\n",
    "    for x in m.replace(\" \",\":\").split(':'):\n",
    "        item_list.append(x)\n",
    "        if passport_checker == 0 and 'byr' in item_list and 'eyr' in item_list and 'iyr' in item_list and 'hgt' in item_list and 'hcl' in item_list and  'ecl' in item_list and 'pid' in item_list: \n",
    "            count += 1\n",
    "            passport_checker = 1\n",
    "    if i == \"\":\n",
    "        \n",
    "        item_list = []\n",
    "        passport_checker = 0\n",
    "        \n",
    "count"
   ]
  },
  {
   "cell_type": "code",
   "execution_count": 29,
   "metadata": {},
   "outputs": [
    {
     "name": "stdout",
     "output_type": "stream",
     "text": [
      "That's the right answer!  You are one gold star closer to saving your vacation. [Continue to Part Two]\n"
     ]
    },
    {
     "data": {
      "text/plain": [
       "<Response [200]>"
      ]
     },
     "execution_count": 29,
     "metadata": {},
     "output_type": "execute_result"
    }
   ],
   "source": [
    "aocd.submit(count, part='a', day=4, year=2020)"
   ]
  },
  {
   "cell_type": "code",
   "execution_count": 52,
   "metadata": {},
   "outputs": [
    {
     "data": {
      "text/plain": [
       "['byr:2024 iyr:2016',\n",
       " 'eyr:2034 ecl:zzz pid:985592671 hcl:033b48',\n",
       " 'hgt:181 cid:166',\n",
       " '',\n",
       " 'hgt:66cm',\n",
       " 'pid:152cm',\n",
       " 'hcl:cfb18a eyr:1947',\n",
       " 'byr:2020 ecl:zzz iyr:2029',\n",
       " '',\n",
       " 'ecl:gry hcl:#888785 eyr:2023 cid:63']"
      ]
     },
     "execution_count": 52,
     "metadata": {},
     "output_type": "execute_result"
    }
   ],
   "source": [
    "lst[0:10]"
   ]
  },
  {
   "cell_type": "code",
   "execution_count": 50,
   "metadata": {},
   "outputs": [
    {
     "data": {
      "text/plain": [
       "145"
      ]
     },
     "execution_count": 50,
     "metadata": {},
     "output_type": "execute_result"
    }
   ],
   "source": [
    "\n",
    "lst = data.split('\\n')\n",
    "\n",
    "item_list = []\n",
    "count = 0\n",
    "passport_checker = 0\n",
    "for i in lst:\n",
    "    if i == \"\":\n",
    "        item_list = []\n",
    "        passport_checker = 0\n",
    "    else:\n",
    "        for x in i.split(' '):\n",
    "            values = x.split(':')\n",
    "            key = values[0]\n",
    "            val = values[1]\n",
    "            \n",
    "            if key == 'byr':\n",
    "                if int(val) >= 1920 and int(val) <= 2002:\n",
    "                    item_list.append(key)\n",
    "            elif key == 'iyr':\n",
    "                if int(val) >= 2010 and int(val) <= 2020:\n",
    "                    item_list.append(key)\n",
    "            elif key == 'eyr':\n",
    "                if int(val) >= 2020 and int(val) <= 2030:\n",
    "                    item_list.append(key)\n",
    "            elif key == 'hgt':\n",
    "                if 'cm' in val:\n",
    "                    if int(val.replace('cm','')) >= 150 and int(val.replace('cm','')) <= 193:\n",
    "                        item_list.append(key)\n",
    "                if 'in' in val:\n",
    "                    if int(val.replace('in','')) >= 59 and int(val.replace('in','')) <= 76:\n",
    "                        item_list.append(key)\n",
    "            elif key == 'ecl' and val in [\"amb\",\"blu\",\"brn\",\"gry\",\"grn\",\"hzl\",\"oth\"]:\n",
    "                item_list.append(key)\n",
    "            elif key == 'pid':\n",
    "                \n",
    "                if len(val) == 9 and len(re.sub(\"[^0-9]+\", \"\", val)) == 9:\n",
    "                    item_list.append(key)       \n",
    "            elif key == 'hcl':\n",
    "                \n",
    "                if val[0] == \"#\" and len(val[1:]) == 6 and len(re.sub(\"[^0-9a-f]+\", \"\", val[1:])) == 6:\n",
    "                    item_list.append(key) \n",
    "\n",
    "            if passport_checker == 0 and 'byr' in item_list and 'eyr' in item_list and 'iyr' in item_list and 'hgt' in item_list and 'hcl' in item_list and  'ecl' in item_list and 'pid' in item_list: \n",
    "                count += 1\n",
    "                passport_checker = 1\n",
    "\n",
    "\n",
    "        \n",
    "count"
   ]
  },
  {
   "cell_type": "code",
   "execution_count": 51,
   "metadata": {},
   "outputs": [
    {
     "name": "stdout",
     "output_type": "stream",
     "text": [
      "That's the right answer!  You are one gold star closer to saving your vacation.You have completed Day 4! You can [Shareon\n",
      "  Twitter\n",
      "Mastodon] this victory or [Return to Your Advent Calendar].\n"
     ]
    },
    {
     "data": {
      "text/plain": [
       "<Response [200]>"
      ]
     },
     "execution_count": 51,
     "metadata": {},
     "output_type": "execute_result"
    }
   ],
   "source": [
    "aocd.submit(count, part='b', day=4, year=2020)"
   ]
  },
  {
   "cell_type": "code",
   "execution_count": null,
   "metadata": {},
   "outputs": [],
   "source": [
    "#byr (Birth Year) - four digits; at least 1920 and at most 2002.\n",
    "#iyr (Issue Year) - four digits; at least 2010 and at most 2020.\n",
    "#eyr (Expiration Year) - four digits; at least 2020 and at most 2030.\n",
    "#hgt (Height) - a number followed by either cm or in:\n",
    "#If cm, the number must be at least 150 and at most 193.\n",
    "#If in, the number must be at least 59 and at most 76.\n",
    "#hcl (Hair Color) - a # followed by exactly six characters 0-9 or a-f.\n",
    "#ecl (Eye Color) - exactly one of: amb blu brn gry grn hzl oth.\n",
    "#pid (Passport ID) - a nine-digit number, including leading zeroes.\n",
    "#cid (Country ID) - ignored, missing or not."
   ]
  },
  {
   "cell_type": "code",
   "execution_count": null,
   "metadata": {},
   "outputs": [],
   "source": []
  }
 ],
 "metadata": {
  "kernelspec": {
   "display_name": "Python 3",
   "language": "python",
   "name": "python3"
  },
  "language_info": {
   "codemirror_mode": {
    "name": "ipython",
    "version": 3
   },
   "file_extension": ".py",
   "mimetype": "text/x-python",
   "name": "python",
   "nbconvert_exporter": "python",
   "pygments_lexer": "ipython3",
   "version": "3.7.3"
  }
 },
 "nbformat": 4,
 "nbformat_minor": 2
}
