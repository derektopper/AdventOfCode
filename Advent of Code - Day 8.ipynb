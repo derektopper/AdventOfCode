{
 "cells": [
  {
   "cell_type": "markdown",
   "metadata": {},
   "source": [
    "# Advent Of Code Day 8\n",
    "\n",
    "I am using this as a baseline and will be trying to improve speed over the next few advent events."
   ]
  },
  {
   "cell_type": "code",
   "execution_count": 6,
   "metadata": {},
   "outputs": [],
   "source": [
    "#!pip install advent-of-code-data\n",
    "\n",
    "from aocd import data, submit\n",
    "import aocd\n",
    "\n",
    "import re"
   ]
  },
  {
   "cell_type": "code",
   "execution_count": 7,
   "metadata": {},
   "outputs": [],
   "source": [
    "lst = data.split('\\n')\n",
    "item_list = []\n",
    "count = []\n"
   ]
  },
  {
   "cell_type": "code",
   "execution_count": 8,
   "metadata": {},
   "outputs": [
    {
     "data": {
      "text/plain": [
       "1684"
      ]
     },
     "execution_count": 8,
     "metadata": {},
     "output_type": "execute_result"
    }
   ],
   "source": [
    "arr = []\n",
    "for i in range(len(lst)):\n",
    "    arr.append(str(i)+\" \"+lst[i])\n",
    "\n",
    "count = 0\n",
    "used_nums = []\n",
    "curr_pos = 0\n",
    "parts = arr[curr_pos].split(' ')\n",
    "while parts[0] not in used_nums:\n",
    "    used_nums.append(parts[0])\n",
    "    if parts[1] == 'acc':\n",
    "        count += int(parts[2])\n",
    "        curr_pos += 1\n",
    "    elif parts[1] == 'nop':\n",
    "        curr_pos += 1\n",
    "    elif parts[1] == 'jmp':\n",
    "        curr_pos += int(parts[2])\n",
    "    parts = arr[curr_pos].split(' ')\n",
    "count\n",
    "    "
   ]
  },
  {
   "cell_type": "code",
   "execution_count": null,
   "metadata": {},
   "outputs": [],
   "source": []
  },
  {
   "cell_type": "code",
   "execution_count": 28,
   "metadata": {},
   "outputs": [
    {
     "name": "stdout",
     "output_type": "stream",
     "text": [
      "aocd will not submit that answer again. You've previously guessed 1684.0 and the server responded:\n",
      "That's not the right answer.  If you're stuck, make sure you're using the full input data; there are also some general tips on the about page, or you can ask for hints on the subreddit.  Please wait one minute before trying again. (You guessed 1684.0.) [Return to Day 8]\n"
     ]
    }
   ],
   "source": [
    "aocd.submit(count, part='a', day=8, year=2020)"
   ]
  },
  {
   "cell_type": "code",
   "execution_count": 18,
   "metadata": {},
   "outputs": [],
   "source": [
    "arr = []\n",
    "for i in range(len(lst)):\n",
    "    arr.append(str(i)+\" \"+lst[i])\n",
    "\n",
    "jl = []\n",
    "for i in arr:\n",
    "    if 'acc' not in i:\n",
    "        jl.append(i.split(' ')[0])  "
   ]
  },
  {
   "cell_type": "code",
   "execution_count": 16,
   "metadata": {},
   "outputs": [
    {
     "name": "stdout",
     "output_type": "stream",
     "text": [
      "DONE 2188 405\n"
     ]
    }
   ],
   "source": [
    "for i in jl:\n",
    "    arr = []\n",
    "    for x in range(len(lst)):\n",
    "        arr.append(str(x)+\" \"+lst[x])\n",
    "        \n",
    "    if 'jmp' in arr[int(i)]:\n",
    "        arr[int(i)] = arr[int(i)].replace('jmp','nop')\n",
    "    else:\n",
    "        arr[int(i)] = arr[int(i)].replace('nop','jmp')\n",
    "\n",
    "    count = 0\n",
    "    used_nums = []\n",
    "    curr_pos = 0\n",
    "    parts = arr[curr_pos].split(' ')\n",
    "    while parts[0] not in used_nums:\n",
    "        used_nums.append(parts[0])\n",
    "        if parts[1] == 'acc':\n",
    "            count += int(parts[2])\n",
    "            curr_pos += 1\n",
    "        elif parts[1] == 'nop':\n",
    "            curr_pos += 1\n",
    "        elif parts[1] == 'jmp':\n",
    "            curr_pos += int(parts[2])\n",
    "        parts = arr[curr_pos].split(' ')\n",
    "        if curr_pos == 632:\n",
    "            print(\"DONE\",count,i)\n",
    "            break\n",
    "    count\n",
    "    "
   ]
  },
  {
   "cell_type": "code",
   "execution_count": 17,
   "metadata": {},
   "outputs": [
    {
     "name": "stdout",
     "output_type": "stream",
     "text": [
      "You don't seem to be solving the right level.  Did you already complete it? [Return to Day 8]\n"
     ]
    },
    {
     "data": {
      "text/plain": [
       "<Response [200]>"
      ]
     },
     "execution_count": 17,
     "metadata": {},
     "output_type": "execute_result"
    }
   ],
   "source": [
    "aocd.submit(2188, part='b', day=8, year=2020)"
   ]
  },
  {
   "cell_type": "code",
   "execution_count": null,
   "metadata": {},
   "outputs": [],
   "source": []
  },
  {
   "cell_type": "code",
   "execution_count": null,
   "metadata": {},
   "outputs": [],
   "source": []
  }
 ],
 "metadata": {
  "kernelspec": {
   "display_name": "Python 3",
   "language": "python",
   "name": "python3"
  },
  "language_info": {
   "codemirror_mode": {
    "name": "ipython",
    "version": 3
   },
   "file_extension": ".py",
   "mimetype": "text/x-python",
   "name": "python",
   "nbconvert_exporter": "python",
   "pygments_lexer": "ipython3",
   "version": "3.7.3"
  }
 },
 "nbformat": 4,
 "nbformat_minor": 2
}
