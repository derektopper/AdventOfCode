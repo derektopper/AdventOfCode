{
 "cells": [
  {
   "cell_type": "markdown",
   "metadata": {},
   "source": [
    "# Advent Of Code Day 12\n",
    "\n",
    "The 12th day of competition. The goal is just to finish all 25 days. I don't know if it will happen, but that's the goal!"
   ]
  },
  {
   "cell_type": "code",
   "execution_count": 1,
   "metadata": {},
   "outputs": [],
   "source": [
    "#!pip install advent-of-code-data\n",
    "\n",
    "from aocd import data, submit\n",
    "import aocd\n",
    "\n",
    "import re"
   ]
  },
  {
   "cell_type": "code",
   "execution_count": 2,
   "metadata": {},
   "outputs": [],
   "source": [
    "lst = data.split('\\n')"
   ]
  },
  {
   "cell_type": "code",
   "execution_count": 98,
   "metadata": {},
   "outputs": [
    {
     "data": {
      "text/plain": [
       "['F36', 'L90', 'S5', 'F67', 'W3', 'R90', 'F67', 'R90', 'E1', 'S5']"
      ]
     },
     "execution_count": 98,
     "metadata": {},
     "output_type": "execute_result"
    }
   ],
   "source": [
    "lst[0:10]"
   ]
  },
  {
   "cell_type": "code",
   "execution_count": 19,
   "metadata": {},
   "outputs": [
    {
     "data": {
      "text/plain": [
       "1152"
      ]
     },
     "execution_count": 19,
     "metadata": {},
     "output_type": "execute_result"
    }
   ],
   "source": [
    "e_pos_w_neg = 0\n",
    "n_pos_s_neg = 0\n",
    "curr_dir = 'E'\n",
    "dirr_list = ['N','E','S','W','N','E','S','W','N']\n",
    "for i in lst:\n",
    "    dirr = i[0]\n",
    "    num = int(i[1:])\n",
    "    if dirr == \"F\":\n",
    "        if curr_dir == \"E\":\n",
    "            e_pos_w_neg = e_pos_w_neg + num\n",
    "        elif curr_dir == \"N\":\n",
    "            n_pos_s_neg = n_pos_s_neg + num\n",
    "        elif curr_dir == \"S\":\n",
    "            n_pos_s_neg = n_pos_s_neg - num\n",
    "        else:\n",
    "            e_pos_w_neg = e_pos_w_neg - num\n",
    "    elif dirr == 'R':\n",
    "        if num == 90:\n",
    "            curr_dir = dirr_list[dirr_list.index(curr_dir)+1]\n",
    "        elif num == 180:\n",
    "            curr_dir = dirr_list[dirr_list.index(curr_dir)+2]\n",
    "        elif num == 270:\n",
    "            curr_dir = dirr_list[dirr_list.index(curr_dir)+3]\n",
    "        elif num == 360:\n",
    "            curr_dir = dirr_list[dirr_list.index(curr_dir)+4]\n",
    "    elif dirr == 'L':\n",
    "        if num == 90:\n",
    "            curr_dir = dirr_list[dirr_list.index(curr_dir)+4-1]\n",
    "        elif num == 180:\n",
    "            curr_dir = dirr_list[dirr_list.index(curr_dir)+4-2]\n",
    "        elif num == 270:\n",
    "            curr_dir = dirr_list[dirr_list.index(curr_dir)+4-3]\n",
    "        elif num == 360:\n",
    "            curr_dir = dirr_list[dirr_list.index(curr_dir)+4-4]\n",
    "    elif dirr == \"N\":\n",
    "        n_pos_s_neg = n_pos_s_neg + num\n",
    "    elif dirr == \"E\":\n",
    "        e_pos_w_neg = e_pos_w_neg + num\n",
    "    elif dirr == \"S\":\n",
    "        n_pos_s_neg = n_pos_s_neg - num\n",
    "    elif dirr == \"W\":\n",
    "        e_pos_w_neg = e_pos_w_neg - num\n",
    "    #print(i, curr_dir, 'N:',n_pos_s_neg,\" E:\",e_pos_w_neg)\n",
    "count = abs(n_pos_s_neg) + abs(e_pos_w_neg)\n",
    "count"
   ]
  },
  {
   "cell_type": "code",
   "execution_count": 18,
   "metadata": {},
   "outputs": [
    {
     "name": "stdout",
     "output_type": "stream",
     "text": [
      "That's the right answer!  You are one gold star closer to saving your vacation. [Continue to Part Two]\n"
     ]
    },
    {
     "data": {
      "text/plain": [
       "<Response [200]>"
      ]
     },
     "execution_count": 18,
     "metadata": {},
     "output_type": "execute_result"
    }
   ],
   "source": [
    "aocd.submit(count , part='a', day=12, year=2020)"
   ]
  },
  {
   "cell_type": "code",
   "execution_count": 100,
   "metadata": {},
   "outputs": [
    {
     "data": {
      "text/plain": [
       "58637"
      ]
     },
     "execution_count": 100,
     "metadata": {},
     "output_type": "execute_result"
    }
   ],
   "source": [
    "e_pos_w_neg = 0\n",
    "n_pos_s_neg = 0\n",
    "waypoint_e_pos_w_neg = 10\n",
    "waypoint_n_pos_s_neg = -1\n",
    "\n",
    "curr_dir = 'E'\n",
    "dirr_list = ['N','E','S','W','N','E','S','W','N']\n",
    "for i in lst: #['F10','N3','F7','R90','F11']:\n",
    "    dirr = i[0]\n",
    "    num = int(i[1:])\n",
    "    if dirr == \"F\":\n",
    "        for i in range(num):\n",
    "            e_pos_w_neg = e_pos_w_neg + (waypoint_e_pos_w_neg)\n",
    "            n_pos_s_neg = n_pos_s_neg + (waypoint_n_pos_s_neg)\n",
    "    elif dirr == 'R' or dirr == 'L':\n",
    "        \n",
    "        \n",
    "        if dirr == \"L\":\n",
    "            num = -num\n",
    "\n",
    "        num = math.radians(num)\n",
    "        tx = math.cos(num) * waypoint_e_pos_w_neg - math.sin(num) * waypoint_n_pos_s_neg\n",
    "        ty = math.sin(num) * waypoint_e_pos_w_neg + math.cos(num) * waypoint_n_pos_s_neg\n",
    "        waypoint_e_pos_w_neg = int(round(tx))\n",
    "        waypoint_n_pos_s_neg = int(round(ty))\n",
    "\n",
    "\n",
    "    elif dirr == \"N\":\n",
    "        waypoint_n_pos_s_neg = waypoint_n_pos_s_neg - num\n",
    "    elif dirr == \"E\":\n",
    "        waypoint_e_pos_w_neg = waypoint_e_pos_w_neg + num\n",
    "    elif dirr == \"S\":\n",
    "        waypoint_n_pos_s_neg = waypoint_n_pos_s_neg + num\n",
    "    elif dirr == \"W\":\n",
    "        waypoint_e_pos_w_neg = waypoint_e_pos_w_neg - num\n",
    "    #print(i, curr_dir, 'N:',n_pos_s_neg,\" E:\", e_pos_w_neg, \"WN:\", waypoint_n_pos_s_neg, \"WE:\", waypoint_e_pos_w_neg)\n",
    "    #print(i, e_pos_w_neg, n_pos_s_neg,\":\",waypoint_e_pos_w_neg, waypoint_n_pos_s_neg,)\n",
    "count = abs(n_pos_s_neg) + abs(e_pos_w_neg)\n",
    "count"
   ]
  },
  {
   "cell_type": "code",
   "execution_count": 97,
   "metadata": {},
   "outputs": [
    {
     "name": "stdout",
     "output_type": "stream",
     "text": [
      "That's the right answer!  You are one gold star closer to saving your vacation.You have completed Day 12! You can [Shareon\n",
      "  Twitter\n",
      "Mastodon] this victory or [Return to Your Advent Calendar].\n"
     ]
    },
    {
     "data": {
      "text/plain": [
       "<Response [200]>"
      ]
     },
     "execution_count": 97,
     "metadata": {},
     "output_type": "execute_result"
    }
   ],
   "source": [
    "aocd.submit(count , part='b', day=12, year=2020)"
   ]
  },
  {
   "cell_type": "code",
   "execution_count": null,
   "metadata": {},
   "outputs": [],
   "source": []
  }
 ],
 "metadata": {
  "kernelspec": {
   "display_name": "Python 3",
   "language": "python",
   "name": "python3"
  },
  "language_info": {
   "codemirror_mode": {
    "name": "ipython",
    "version": 3
   },
   "file_extension": ".py",
   "mimetype": "text/x-python",
   "name": "python",
   "nbconvert_exporter": "python",
   "pygments_lexer": "ipython3",
   "version": "3.7.3"
  }
 },
 "nbformat": 4,
 "nbformat_minor": 2
}
