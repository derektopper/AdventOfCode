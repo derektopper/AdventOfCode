{
 "cells": [
  {
   "cell_type": "markdown",
   "metadata": {},
   "source": [
    "# Advent Of Code Day 10\n",
    "\n",
    "The tenth day of competition. The goal is just to finish all 25 days. I don't know if it will happen, but that's the goal!"
   ]
  },
  {
   "cell_type": "code",
   "execution_count": 1,
   "metadata": {},
   "outputs": [],
   "source": [
    "#!pip install advent-of-code-data\n",
    "\n",
    "from aocd import data, submit\n",
    "import aocd\n",
    "\n",
    "import re"
   ]
  },
  {
   "cell_type": "code",
   "execution_count": 23,
   "metadata": {},
   "outputs": [],
   "source": [
    "lst = data.split('\\n')"
   ]
  },
  {
   "cell_type": "code",
   "execution_count": 24,
   "metadata": {},
   "outputs": [
    {
     "data": {
      "text/plain": [
       "107"
      ]
     },
     "execution_count": 24,
     "metadata": {},
     "output_type": "execute_result"
    }
   ],
   "source": [
    "len(lst)"
   ]
  },
  {
   "cell_type": "code",
   "execution_count": 25,
   "metadata": {},
   "outputs": [
    {
     "data": {
      "text/plain": [
       "[1, 2, 3, 6, 9, 10, 13, 14, 15, 18]"
      ]
     },
     "execution_count": 25,
     "metadata": {},
     "output_type": "execute_result"
    }
   ],
   "source": [
    "nl =[]\n",
    "for i in lst:\n",
    "    nl.append(int(i))\n",
    "nl.sort()\n",
    "nl[0:10]"
   ]
  },
  {
   "cell_type": "code",
   "execution_count": 26,
   "metadata": {},
   "outputs": [
    {
     "name": "stdout",
     "output_type": "stream",
     "text": [
      "Done\n"
     ]
    },
    {
     "data": {
      "text/plain": [
       "74"
      ]
     },
     "execution_count": 26,
     "metadata": {},
     "output_type": "execute_result"
    }
   ],
   "source": [
    "ones = 1\n",
    "threes = 1\n",
    "\n",
    "\n",
    "for i in nl:\n",
    "    if i + 1 in nl:\n",
    "        ones+=1\n",
    "    elif i + 2 in nl:\n",
    "        pass\n",
    "    elif i + 3 in nl:\n",
    "        threes+=1\n",
    "    else:\n",
    "        print(\"Done\")\n",
    "ones"
   ]
  },
  {
   "cell_type": "code",
   "execution_count": 27,
   "metadata": {},
   "outputs": [
    {
     "name": "stdout",
     "output_type": "stream",
     "text": [
      "That's the right answer!  You are one gold star closer to saving your vacation. [Continue to Part Two]\n"
     ]
    },
    {
     "data": {
      "text/plain": [
       "<Response [200]>"
      ]
     },
     "execution_count": 27,
     "metadata": {},
     "output_type": "execute_result"
    }
   ],
   "source": [
    "aocd.submit(ones*threes, part='a', day=10, year=2020)"
   ]
  },
  {
   "cell_type": "code",
   "execution_count": 147,
   "metadata": {},
   "outputs": [
    {
     "data": {
      "text/plain": [
       "[0, 1, 2, 3, 6, 9, 10, 13, 14, 15]"
      ]
     },
     "execution_count": 147,
     "metadata": {},
     "output_type": "execute_result"
    }
   ],
   "source": [
    "nl[0:10]"
   ]
  },
  {
   "cell_type": "code",
   "execution_count": 59,
   "metadata": {},
   "outputs": [
    {
     "data": {
      "text/plain": [
       "[19, 16, 13, 10, 7, 4, 1]"
      ]
     },
     "execution_count": 59,
     "metadata": {},
     "output_type": "execute_result"
    }
   ],
   "source": [
    "list(range(1,22,3))[::-1]"
   ]
  },
  {
   "cell_type": "code",
   "execution_count": 145,
   "metadata": {},
   "outputs": [
    {
     "data": {
      "text/plain": [
       "296196766695424"
      ]
     },
     "execution_count": 145,
     "metadata": {},
     "output_type": "execute_result"
    }
   ],
   "source": [
    "amount = 1\n",
    "\n",
    "nl =[]\n",
    "for i in lst:\n",
    "    nl.append(int(i))\n",
    "\n",
    "bl = nl\n",
    "bl.append(0)\n",
    "bl.append(max(bl)+3)\n",
    "bl.sort()\n",
    "\n",
    "amount = 1\n",
    "\n",
    "x = min(bl)\n",
    "while x != max(bl):\n",
    "    if (x + 1 in bl) and (x + 2 in bl) and (x + 3 in bl) and (x + 4 in bl) and (x + 5 in bl) and (x + 6 in bl):\n",
    "        #calculated possible permutations\n",
    "        amount = amount * 24\n",
    "        x += 6\n",
    "    elif (x + 1 in bl) and (x + 2 in bl) and (x + 3 in bl) and (x + 4 in bl) and (x + 5 in bl):\n",
    "        amount = amount * 13\n",
    "        x += 5\n",
    "    elif (x + 1 in bl) and (x + 2 in bl) and (x + 3 in bl) and (x + 4 in bl):\n",
    "        amount = amount * 7\n",
    "        x += 4\n",
    "    elif (x + 1 in bl) and (x + 2 in bl) and (x + 3 in bl):\n",
    "        amount = amount * 4\n",
    "        x += 3\n",
    "    elif ((x + 1) in bl) and (x + 2 in bl) and (x + 3  not in bl):\n",
    "        amount = amount * 2\n",
    "        x += 2\n",
    "    elif (x + 1 in bl) and (x + 2 not in bl) and (x + 3 in bl):\n",
    "        amount = amount * 2\n",
    "        x += 3\n",
    "    elif (x + 1 not in bl) and (x + 2 in bl) and (x + 3 in bl):\n",
    "        amount = amount * 2\n",
    "        x += 3\n",
    "    elif (x + 1 not in bl) and (x + 2 in bl) and (x + 3  not in bl):\n",
    "        amount = amount * 1\n",
    "        x += 2\n",
    "    elif (x + 1 in bl) and (x + 2 not in bl) and (x + 3 not in bl):\n",
    "        amount = amount * 1\n",
    "        x += 1\n",
    "    elif (x + 1 not in bl) and (x + 2 not in bl) and (x + 3 in bl):\n",
    "        amount = amount * 1\n",
    "        x += 3\n",
    "    else:\n",
    "        amount = amount * 1\n",
    "amount\n",
    "        "
   ]
  },
  {
   "cell_type": "code",
   "execution_count": 146,
   "metadata": {},
   "outputs": [
    {
     "name": "stdout",
     "output_type": "stream",
     "text": [
      "That's the right answer!  You are one gold star closer to saving your vacation.You have completed Day 10! You can [Shareon\n",
      "  Twitter\n",
      "Mastodon] this victory or [Return to Your Advent Calendar].\n"
     ]
    },
    {
     "data": {
      "text/plain": [
       "<Response [200]>"
      ]
     },
     "execution_count": 146,
     "metadata": {},
     "output_type": "execute_result"
    }
   ],
   "source": [
    "aocd.submit(amount, part='b', day=10, year=2020)"
   ]
  },
  {
   "cell_type": "code",
   "execution_count": null,
   "metadata": {},
   "outputs": [],
   "source": []
  },
  {
   "cell_type": "code",
   "execution_count": null,
   "metadata": {},
   "outputs": [],
   "source": []
  }
 ],
 "metadata": {
  "kernelspec": {
   "display_name": "Python 3",
   "language": "python",
   "name": "python3"
  },
  "language_info": {
   "codemirror_mode": {
    "name": "ipython",
    "version": 3
   },
   "file_extension": ".py",
   "mimetype": "text/x-python",
   "name": "python",
   "nbconvert_exporter": "python",
   "pygments_lexer": "ipython3",
   "version": "3.7.3"
  }
 },
 "nbformat": 4,
 "nbformat_minor": 2
}
